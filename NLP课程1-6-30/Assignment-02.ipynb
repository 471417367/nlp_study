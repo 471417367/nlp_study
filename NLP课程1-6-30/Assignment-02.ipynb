{
 "cells": [
  {
   "cell_type": "markdown",
   "metadata": {},
   "source": [
    "## Assignments for Week-02"
   ]
  },
  {
   "cell_type": "markdown",
   "metadata": {},
   "source": [
    "In this course, we learnt what's the search problem and what's the machine leanring. In this assignment, we need you do some more practice."
   ]
  },
  {
   "cell_type": "markdown",
   "metadata": {},
   "source": [
    "### 1. Re-code the house price machine learning\n",
    "\n",
    "###### 1. Random Choose Method to get optimal *k* and *b*\n",
    "###### 2.Supervised Direction to get optimal *k* and *b*\n",
    "###### 3.Gradient Descent to get optimal *k* and *b*\n",
    "###### 4. Try different Loss function and learning rate. \n",
    "\n",
    "For example, you can change the loss function: $Loss = \\frac{1}{n} sum({y_i - \\hat{y_i}})^2$ to $Loss = \\frac{1}{n} sum(|{y_i - \\hat{y_i}}|)$\n",
    "\n",
    "And you can change the learning rate and observe the performance."
   ]
  },
  {
   "cell_type": "code",
   "execution_count": 1,
   "metadata": {},
   "outputs": [],
   "source": [
    "from sklearn.datasets import load_boston\n",
    "import matplotlib.pyplot as plt\n",
    "%matplotlib inline\n",
    "\n",
    "data = load_boston()\n",
    "\n",
    "X, y = data['data'], data['target']"
   ]
  },
  {
   "cell_type": "code",
   "execution_count": 2,
   "metadata": {
    "scrolled": false
   },
   "outputs": [],
   "source": [
    "import random\n",
    "\n",
    "def draw_price():\n",
    "    plt.scatter(X[:, 5], y)\n",
    "    \n",
    "def price(rm, k, b):\n",
    "    \"\"\"f(x) = k * x + b\"\"\"\n",
    "    return k * rm + b  "
   ]
  },
  {
   "cell_type": "markdown",
   "metadata": {},
   "source": [
    "$Loss = \\frac{1}{n} sum(|{y_i - \\hat{y_i}}|)$"
   ]
  },
  {
   "cell_type": "code",
   "execution_count": 3,
   "metadata": {},
   "outputs": [
    {
     "data": {
      "image/png": "[encoded data removed]",
      "text/plain": [
       "<Figure size 432x288 with 1 Axes>"
      ]
     },
     "metadata": {
      "needs_background": "light"
     },
     "output_type": "display_data"
    },
    {
     "name": "stdout",
     "output_type": "stream",
     "text": [
      "get best_k: 5.801182382433595 best_b: -13.8206302960931, and the loss is: 4.890373551501466\n"
     ]
    }
   ],
   "source": [
    "def loss(y, y_t): \n",
    "    losses = []\n",
    "    for y_true, y_t in zip(list(y), list(y_t)):\n",
    "        loss = abs(y_true - y_t)\n",
    "        losses.append(loss)\n",
    "    \n",
    "    return sum(losses) / len(list(y))\n",
    "\n",
    "X_rm = X[:, 5]\n",
    "trying_times = 5000\n",
    "\n",
    "min_loss = float('inf')   #正负无穷\n",
    "best_k, best_b = None, None\n",
    "\n",
    "for i in range(trying_times):\n",
    "    k = random.random() * 200 - 100\n",
    "    b = random.random() * 200 - 100\n",
    "    price_t = [price(r, k, b) for r in X_rm]\n",
    "\n",
    "    current_loss = loss(y, price_t)\n",
    "    \n",
    "    if current_loss < min_loss:\n",
    "        min_loss = current_loss\n",
    "        best_k, best_b = k, b\n",
    "        \n",
    "price_t = [price(r, best_k, best_b) for r in X_rm]\n",
    "draw_price()\n",
    "plt.scatter(X_rm, price_t)\n",
    "plt.show()\n",
    "print('get best_k: {} best_b: {}, and the loss is: {}'.format(best_k, best_b, min_loss))"
   ]
  },
  {
   "cell_type": "code",
   "execution_count": 4,
   "metadata": {},
   "outputs": [],
   "source": [
    "trying_times = 2000\n",
    "\n",
    "min_loss = float('inf')\n",
    "\n",
    "best_k = random.random() * 200 - 100\n",
    "best_b = random.random() * 200 - 100\n",
    "\n",
    "direction = [\n",
    "    (+1, -1),\n",
    "    (+1, +1), \n",
    "    (-1, -1), \n",
    "    (-1, +1),\n",
    "]\n",
    "\n",
    "next_direction = random.choice(direction)\n",
    "\n",
    "scalar = 0.1\n",
    "\n",
    "update_time = 0"
   ]
  },
  {
   "cell_type": "code",
   "execution_count": 5,
   "metadata": {
    "scrolled": true
   },
   "outputs": [
    {
     "data": {
      "image/png": "[encoded data removed]",
      "text/plain": [
       "<Figure size 432x288 with 1 Axes>"
      ]
     },
     "metadata": {
      "needs_background": "light"
     },
     "output_type": "display_data"
    },
    {
     "name": "stdout",
     "output_type": "stream",
     "text": [
      "get best_k: -4.181947183812229 best_b: 47.16913915568505, and the loss is: 8.154304532999324\n"
     ]
    }
   ],
   "source": [
    "for i in range(trying_times):\n",
    "    \n",
    "    k_direction, b_direction = next_direction\n",
    "    \n",
    "    current_k, current_b = best_k + k_direction * scalar, best_b + b_direction * scalar\n",
    "    \n",
    "    price_t = [price(r, current_k, current_b) for r in X_rm]\n",
    "\n",
    "    current_loss = loss(y, price_t)\n",
    "    \n",
    "    if current_loss < min_loss: \n",
    "        min_loss = current_loss\n",
    "        best_k, best_b = current_k, current_b\n",
    "        \n",
    "        next_direction = next_direction\n",
    "        update_time += 1\n",
    "        \n",
    "#         if update_time % 10 == 0: \n",
    "#             print('When time is : {}, get best_k: {} best_b: {}, and the loss is: {}'.format(i, best_k, best_b, min_loss))\n",
    "    else:\n",
    "        next_direction = random.choice(direction)\n",
    "        \n",
    "price_t = [price(r, best_k, best_b) for r in X_rm]\n",
    "draw_price()\n",
    "plt.scatter(X_rm, price_t)\n",
    "plt.show()\n",
    "print('get best_k: {} best_b: {}, and the loss is: {}'.format(best_k, best_b, min_loss))"
   ]
  },
  {
   "cell_type": "markdown",
   "metadata": {},
   "source": [
    "$$ \\frac{\\partial{loss}}{\\partial{k}} = -\\frac{2}{n}\\sum(y_i - \\hat{y_i})x_i$$\n",
    "\n",
    "$$ \\frac{\\partial{loss}}{\\partial{b}} = -\\frac{2}{n}\\sum(y_i - \\hat{y_i})$$"
   ]
  },
  {
   "cell_type": "code",
   "execution_count": 6,
   "metadata": {},
   "outputs": [
    {
     "name": "stdout",
     "output_type": "stream",
     "text": [
      "When time is : 0, get best_k: -4.181947183812229 best_b: 47.16913915568505, and the loss is: 680.7861167875025\n",
      "When time is : 50, get best_k: -4.181947183812229 best_b: 47.16913915568505, and the loss is: 451.06518918412746\n",
      "When time is : 100, get best_k: -4.181947183812229 best_b: 47.16913915568505, and the loss is: 298.83347863598993\n",
      "When time is : 150, get best_k: -4.181947183812229 best_b: 47.16913915568505, and the loss is: 197.95240870795743\n",
      "When time is : 200, get best_k: -4.181947183812229 best_b: 47.16913915568505, and the loss is: 131.10043846982913\n",
      "When time is : 250, get best_k: -4.181947183812229 best_b: 47.16913915568505, and the loss is: 86.79890989517551\n",
      "When time is : 300, get best_k: -4.181947183812229 best_b: 47.16913915568505, and the loss is: 57.44113310469064\n",
      "When time is : 350, get best_k: -4.181947183812229 best_b: 47.16913915568505, and the loss is: 37.98629838118535\n",
      "When time is : 400, get best_k: -4.181947183812229 best_b: 47.16913915568505, and the loss is: 25.09395632970734\n",
      "When time is : 450, get best_k: -4.181947183812229 best_b: 47.16913915568505, and the loss is: 16.551218463270523\n",
      "When time is : 500, get best_k: -4.181947183812229 best_b: 47.16913915568505, and the loss is: 11.134992374588904\n",
      "When time is : 550, get best_k: -4.181947183812229 best_b: 47.16913915568505, and the loss is: 8.107606025234968\n",
      "When time is : 600, get best_k: -4.181947183812229 best_b: 47.16913915568505, and the loss is: 6.504086436322362\n",
      "When time is : 650, get best_k: -4.181947183812229 best_b: 47.16913915568505, and the loss is: 5.622562717499788\n",
      "When time is : 700, get best_k: -4.181947183812229 best_b: 47.16913915568505, and the loss is: 5.175140877432566\n",
      "When time is : 750, get best_k: -4.181947183812229 best_b: 47.16913915568505, and the loss is: 4.967095810529817\n",
      "When time is : 800, get best_k: -4.181947183812229 best_b: 47.16913915568505, and the loss is: 4.878591989167386\n",
      "When time is : 850, get best_k: -4.181947183812229 best_b: 47.16913915568505, and the loss is: 4.849534124520805\n",
      "When time is : 900, get best_k: -4.181947183812229 best_b: 47.16913915568505, and the loss is: 4.841793427239053\n"
     ]
    }
   ],
   "source": [
    "from icecream import ic\n",
    "\n",
    "def partial_k(x, y, y_hat):\n",
    "    n = len(y)\n",
    "\n",
    "    gradient = 0\n",
    "    \n",
    "    for x_i, y_i, y_hat_i in zip(list(x), list(y), list(y_hat)):\n",
    "        gradient += (y_i - y_hat_i) * x_i\n",
    "    \n",
    "    return -2 / n * gradient\n",
    "\n",
    "\n",
    "def partial_b(y, y_hat):\n",
    "    n = len(y)\n",
    "\n",
    "    gradient = 0\n",
    "    \n",
    "    for y_i, y_hat_i in zip(list(y), list(y_hat)):\n",
    "        gradient += (y_i - y_hat_i)\n",
    "    \n",
    "    return -2 / n * gradient\n",
    "\n",
    "\n",
    "X, y = data['data'], data['target']\n",
    "\n",
    "min_loss = float('inf') \n",
    "\n",
    "current_k = random.random() * 200 - 100\n",
    "current_b = random.random() * 200 - 100\n",
    "\n",
    "learning_rate = 1e-04\n",
    "\n",
    "\n",
    "update_time = 0\n",
    "\n",
    "for i in range(trying_times):\n",
    "    \n",
    "    price_by_k_and_b = [price(r, current_k, current_b) for r in X_rm]\n",
    "    \n",
    "    current_loss = loss(y, price_by_k_and_b)\n",
    "\n",
    "    if current_loss < min_loss:\n",
    "        min_loss = current_loss\n",
    "        \n",
    "        if i % 50 == 0: \n",
    "            print('When time is : {}, get best_k: {} best_b: {}, and the loss is: {}'.format(i, best_k, best_b, min_loss))\n",
    "\n",
    "    k_gradient = partial_k(X_rm, y, price_by_k_and_b)\n",
    "    \n",
    "    b_gradient = partial_b(y, price_by_k_and_b)\n",
    "    \n",
    "    current_k = current_k + (-1 * k_gradient) * learning_rate\n",
    "\n",
    "    current_b = current_b + (-1 * b_gradient) * learning_rate"
   ]
  },
  {
   "cell_type": "code",
   "execution_count": 7,
   "metadata": {},
   "outputs": [
    {
     "data": {
      "text/plain": [
       "<matplotlib.collections.PathCollection at 0x1c99a0a7b70>"
      ]
     },
     "execution_count": 7,
     "metadata": {},
     "output_type": "execute_result"
    },
    {
     "data": {
      "image/png": "[encoded data removed]",
      "text/plain": [
       "<Figure size 432x288 with 1 Axes>"
      ]
     },
     "metadata": {
      "needs_background": "light"
     },
     "output_type": "display_data"
    }
   ],
   "source": [
    "X_rm = X[:, 5]\n",
    "k = 13.95667\n",
    "b = -65.0650207\n",
    "price_by_random_k_and_b = [price(r, k, b) for r in X_rm]\n",
    "\n",
    "draw_price()\n",
    "plt.scatter(X_rm, price_by_random_k_and_b)"
   ]
  },
  {
   "cell_type": "markdown",
   "metadata": {},
   "source": [
    "![](https://timgsa.baidu.com/timg?image&quality=80&size=b9999_10000&sec=1562414412237&di=8377c38d7b50c6f8d45b92ccc78dc1e7&imgtype=0&src=http%3A%2F%2Fmmbiz.qpic.cn%2Fmmbiz_jpg%2FlSyiavfm6wPgQDuDYa42IMgSkLOcPJU91RbkMibGy7VHLrhhNVLibTYk1iaLcmXKTdHc4icTDVia59QFXwqpW8cLflaw%2F640%3Fwx_fmt%3Djpeg)"
   ]
  },
  {
   "cell_type": "markdown",
   "metadata": {},
   "source": [
    "## 2. Finish the search problem"
   ]
  },
  {
   "cell_type": "markdown",
   "metadata": {},
   "source": [
    "Please using the search policy to implement an agent. This agent receives two input, one is @param start station and the other is @param destination. Your agent should give the optimal route based on Beijing Subway system. "
   ]
  },
  {
   "cell_type": "markdown",
   "metadata": {},
   "source": [
    "> Deadline: 2019-July-13\n",
    "\n",
    ">Submit: Submit the source code and result to github. \n",
    "\n"
   ]
  },
  {
   "cell_type": "markdown",
   "metadata": {},
   "source": [
    "![](http://pic.newssc.org/upload/ori/20170602/1496373977373.jpg)"
   ]
  },
  {
   "cell_type": "code",
   "execution_count": 8,
   "metadata": {},
   "outputs": [],
   "source": [
    "import requests\n",
    "import re\n",
    "\n",
    "def get_text(url, pattern):\n",
    "    # 模拟请求头\n",
    "    headers = {'User-Agent':'Mozilla/5.0 (Windows NT 10.0; WOW64) AppleWebKit/537.36 (KHTML, like Gecko) Chrome/65.0.3325.181 Safari/537.36'}\n",
    "    # 读取到的网站信息\n",
    "    response = requests.get(url, headers = headers).content.decode('utf-8')\n",
    "    \n",
    "    result = re.findall(pattern,response)\n",
    "    \n",
    "    return result"
   ]
  },
  {
   "cell_type": "code",
   "execution_count": 9,
   "metadata": {},
   "outputs": [
    {
     "data": {
      "text/plain": [
       "{'成都地铁1号线': ['韦家碾站',\n",
       "  '升仙湖站',\n",
       "  '火车北站',\n",
       "  '人民北路站',\n",
       "  '文殊院站',\n",
       "  '骡马市站',\n",
       "  '天府广场站',\n",
       "  '锦江宾馆站',\n",
       "  '华西坝站',\n",
       "  '省体育馆站',\n",
       "  '倪家桥站',\n",
       "  '桐梓林站',\n",
       "  '火车南站',\n",
       "  '高新站',\n",
       "  '金融城站',\n",
       "  '孵化园站',\n",
       "  '锦城广场站',\n",
       "  '世纪城站',\n",
       "  '天府三街站',\n",
       "  '天府五街站',\n",
       "  '华府大道站',\n",
       "  '四河站',\n",
       "  '广都站',\n",
       "  '五根松站',\n",
       "  '华阳站',\n",
       "  '海昌路站',\n",
       "  '广福站',\n",
       "  '红石公园站',\n",
       "  '麓湖站',\n",
       "  '武汉路站',\n",
       "  '天府公园站',\n",
       "  '西博城站',\n",
       "  '广州路站',\n",
       "  '兴隆湖站',\n",
       "  '科学城站'],\n",
       " '成都地铁2号线': ['龙泉驿站',\n",
       "  '龙平路站',\n",
       "  '书房站',\n",
       "  '界牌站',\n",
       "  '连山坡站',\n",
       "  '大面铺站',\n",
       "  '成都行政学院站',\n",
       "  '洪河站',\n",
       "  '惠王陵站',\n",
       "  '成渝立交站',\n",
       "  '成都东客站',\n",
       "  '塔子山公园站',\n",
       "  '东大路站',\n",
       "  '牛市口站',\n",
       "  '牛王庙站',\n",
       "  '东门大桥站',\n",
       "  '春熙路站',\n",
       "  '天府广场站',\n",
       "  '人民公园站',\n",
       "  '通惠门站',\n",
       "  '中医大省医院站',\n",
       "  '白果林站',\n",
       "  '蜀汉路东站',\n",
       "  '一品天下站',\n",
       "  '羊犀立交站',\n",
       "  '茶店子客运站',\n",
       "  '迎宾大道站',\n",
       "  '金科北路站',\n",
       "  '金周路站',\n",
       "  '百草路站',\n",
       "  '天河路站',\n",
       "  '犀浦站'],\n",
       " '成都地铁3号线': ['军区总医院站',\n",
       "  '熊猫大道站',\n",
       "  '动物园站',\n",
       "  '昭觉寺南路站',\n",
       "  '驷马桥站',\n",
       "  '李家沱站',\n",
       "  '前锋路站',\n",
       "  '红星桥站',\n",
       "  '市二医院站',\n",
       "  '春熙路站',\n",
       "  '新南门站',\n",
       "  '磨子桥站',\n",
       "  '省体育馆站',\n",
       "  '衣冠庙站',\n",
       "  '高升桥站',\n",
       "  '红牌楼站',\n",
       "  '太平园站'],\n",
       " '成都地铁4号线': ['万盛站',\n",
       "  '杨柳河站',\n",
       "  '凤溪河站',\n",
       "  '南熏大道站',\n",
       "  '光华公园站',\n",
       "  '涌泉站',\n",
       "  '凤凰大街站',\n",
       "  '马厂坝站',\n",
       "  '非遗博览园站',\n",
       "  '蔡桥站',\n",
       "  '中坝站',\n",
       "  '成都西站',\n",
       "  '清江西路站',\n",
       "  '文化宫站',\n",
       "  '西南财大站',\n",
       "  '草堂北路站',\n",
       "  '中医大省医院站',\n",
       "  '宽窄巷子站',\n",
       "  '骡马市站',\n",
       "  '太升南路站',\n",
       "  '市二医院站',\n",
       "  '玉双路站',\n",
       "  '双桥路站',\n",
       "  '万年场站',\n",
       "  '槐树店站',\n",
       "  '来龙站',\n",
       "  '十陵站',\n",
       "  '成都大学站',\n",
       "  '明蜀王陵站',\n",
       "  '西河站'],\n",
       " '成都地铁7号线': ['火车北站',\n",
       "  '驷马桥站',\n",
       "  '府青路站',\n",
       "  '八里庄站',\n",
       "  '二仙桥站',\n",
       "  '理工大学站',\n",
       "  '崔家店站',\n",
       "  '槐树店站',\n",
       "  '迎晖路站',\n",
       "  '成都东客站',\n",
       "  '大观站',\n",
       "  '狮子山站',\n",
       "  '四川师大站',\n",
       "  '琉璃场站',\n",
       "  '三瓦窑站',\n",
       "  '火车南站',\n",
       "  '神仙树站',\n",
       "  '高朋大道站',\n",
       "  '太平园站',\n",
       "  '武侯大道站',\n",
       "  '龙爪堰站',\n",
       "  '东坡路站',\n",
       "  '文化宫站',\n",
       "  '金沙博物馆站',\n",
       "  '一品天下站',\n",
       "  '花照壁站',\n",
       "  '西南交大站',\n",
       "  '九里堤站',\n",
       "  '北站西二路站'],\n",
       " '成都地铁10号线': ['太平园站', '簇锦站', '华兴站', '金花站', '双流机场1航站楼站', '双流机场2航站楼站']}"
      ]
     },
     "execution_count": 9,
     "metadata": {},
     "output_type": "execute_result"
    }
   ],
   "source": [
    "# 要获取信息的网站\n",
    "url = \"https://baike.baidu.com/item/%E6%88%90%E9%83%BD%E5%9C%B0%E9%93%81\"\n",
    "\n",
    "pattern = '<a target=_blank href=\"([\\s\\S]*?)\">([\\s\\S]*?)</a>'\n",
    "\n",
    "des_data = get_text(url, pattern)\n",
    "\n",
    "head=\"https://baike.baidu.com\"\n",
    "s={}\n",
    "for w,k in des_data:\n",
    "    if \"线\" in k and k not in s:\n",
    "        if 'data-lemmaid' not in w:\n",
    "            s[k]=[head+w]\n",
    "\n",
    "pattern1 = '<table log-set-param=\"table_view\"[\\s\\S]*? data-sort=\"sortDisabled\">(?:<caption>[\\s\\S]*?列表</caption>)?([\\s\\S]*?)</table>'\n",
    "pattern2='<a target=_blank href=\"[\\s\\S]*?\">([\\s\\S]*?)</a>'\n",
    "            \n",
    "subwaydict={}\n",
    "for subway,url in s.items():\n",
    "    text_1 = get_text(url[0],pattern1)[0]   \n",
    "    des = re.findall(pattern2, text_1)\n",
    "    subwaydict[subway] = des\n",
    "\n",
    "    for sub in subwaydict:\n",
    "        sta=[]\n",
    "        for station in subwaydict[sub]:\n",
    "            if \"站\" in station:\n",
    "                sta.append(station)\n",
    "        subwaydict[sub]=sta\n",
    "    \n",
    "subwaydict"
   ]
  },
  {
   "cell_type": "code",
   "execution_count": 10,
   "metadata": {},
   "outputs": [
    {
     "data": {
      "text/plain": [
       "{'韦家碾站': ['升仙湖站'],\n",
       " '升仙湖站': ['韦家碾站', '火车北站'],\n",
       " '火车北站': ['升仙湖站', '人民北路站', '驷马桥站'],\n",
       " '人民北路站': ['火车北站', '文殊院站'],\n",
       " '文殊院站': ['人民北路站', '骡马市站'],\n",
       " '骡马市站': ['文殊院站', '天府广场站', '宽窄巷子站', '太升南路站'],\n",
       " '天府广场站': ['骡马市站', '锦江宾馆站', '春熙路站', '人民公园站'],\n",
       " '锦江宾馆站': ['天府广场站', '华西坝站'],\n",
       " '华西坝站': ['锦江宾馆站', '省体育馆站'],\n",
       " '省体育馆站': ['华西坝站', '倪家桥站', '磨子桥站', '衣冠庙站'],\n",
       " '倪家桥站': ['省体育馆站', '桐梓林站'],\n",
       " '桐梓林站': ['倪家桥站', '火车南站'],\n",
       " '火车南站': ['桐梓林站', '高新站', '三瓦窑站', '神仙树站'],\n",
       " '高新站': ['火车南站', '金融城站'],\n",
       " '金融城站': ['高新站', '孵化园站'],\n",
       " '孵化园站': ['金融城站', '锦城广场站'],\n",
       " '锦城广场站': ['孵化园站', '世纪城站'],\n",
       " '世纪城站': ['锦城广场站', '天府三街站'],\n",
       " '天府三街站': ['世纪城站', '天府五街站'],\n",
       " '天府五街站': ['天府三街站', '华府大道站'],\n",
       " '华府大道站': ['天府五街站', '四河站'],\n",
       " '四河站': ['华府大道站', '广都站'],\n",
       " '广都站': ['四河站', '五根松站'],\n",
       " '五根松站': ['广都站', '华阳站'],\n",
       " '华阳站': ['五根松站', '海昌路站'],\n",
       " '海昌路站': ['华阳站', '广福站'],\n",
       " '广福站': ['海昌路站', '红石公园站'],\n",
       " '红石公园站': ['广福站', '麓湖站'],\n",
       " '麓湖站': ['红石公园站', '武汉路站'],\n",
       " '武汉路站': ['麓湖站', '天府公园站'],\n",
       " '天府公园站': ['武汉路站', '西博城站'],\n",
       " '西博城站': ['天府公园站', '广州路站'],\n",
       " '广州路站': ['西博城站', '兴隆湖站'],\n",
       " '兴隆湖站': ['广州路站', '科学城站'],\n",
       " '科学城站': ['兴隆湖站'],\n",
       " '龙泉驿站': ['龙平路站'],\n",
       " '龙平路站': ['龙泉驿站', '书房站'],\n",
       " '书房站': ['龙平路站', '界牌站'],\n",
       " '界牌站': ['书房站', '连山坡站'],\n",
       " '连山坡站': ['界牌站', '大面铺站'],\n",
       " '大面铺站': ['连山坡站', '成都行政学院站'],\n",
       " '成都行政学院站': ['大面铺站', '洪河站'],\n",
       " '洪河站': ['成都行政学院站', '惠王陵站'],\n",
       " '惠王陵站': ['洪河站', '成渝立交站'],\n",
       " '成渝立交站': ['惠王陵站', '成都东客站'],\n",
       " '成都东客站': ['成渝立交站', '塔子山公园站', '迎晖路站', '大观站'],\n",
       " '塔子山公园站': ['成都东客站', '东大路站'],\n",
       " '东大路站': ['塔子山公园站', '牛市口站'],\n",
       " '牛市口站': ['东大路站', '牛王庙站'],\n",
       " '牛王庙站': ['牛市口站', '东门大桥站'],\n",
       " '东门大桥站': ['牛王庙站', '春熙路站'],\n",
       " '春熙路站': ['东门大桥站', '天府广场站', '市二医院站', '新南门站'],\n",
       " '人民公园站': ['天府广场站', '通惠门站'],\n",
       " '通惠门站': ['人民公园站', '中医大省医院站'],\n",
       " '中医大省医院站': ['通惠门站', '白果林站', '草堂北路站', '宽窄巷子站'],\n",
       " '白果林站': ['中医大省医院站', '蜀汉路东站'],\n",
       " '蜀汉路东站': ['白果林站', '一品天下站'],\n",
       " '一品天下站': ['蜀汉路东站', '羊犀立交站', '金沙博物馆站', '花照壁站'],\n",
       " '羊犀立交站': ['一品天下站', '茶店子客运站'],\n",
       " '茶店子客运站': ['羊犀立交站', '迎宾大道站'],\n",
       " '迎宾大道站': ['茶店子客运站', '金科北路站'],\n",
       " '金科北路站': ['迎宾大道站', '金周路站'],\n",
       " '金周路站': ['金科北路站', '百草路站'],\n",
       " '百草路站': ['金周路站', '天河路站'],\n",
       " '天河路站': ['百草路站', '犀浦站'],\n",
       " '犀浦站': ['天河路站'],\n",
       " '军区总医院站': ['熊猫大道站'],\n",
       " '熊猫大道站': ['军区总医院站', '动物园站'],\n",
       " '动物园站': ['熊猫大道站', '昭觉寺南路站'],\n",
       " '昭觉寺南路站': ['动物园站', '驷马桥站'],\n",
       " '驷马桥站': ['昭觉寺南路站', '李家沱站', '火车北站', '府青路站'],\n",
       " '李家沱站': ['驷马桥站', '前锋路站'],\n",
       " '前锋路站': ['李家沱站', '红星桥站'],\n",
       " '红星桥站': ['前锋路站', '市二医院站'],\n",
       " '市二医院站': ['红星桥站', '春熙路站', '太升南路站', '玉双路站'],\n",
       " '新南门站': ['春熙路站', '磨子桥站'],\n",
       " '磨子桥站': ['新南门站', '省体育馆站'],\n",
       " '衣冠庙站': ['省体育馆站', '高升桥站'],\n",
       " '高升桥站': ['衣冠庙站', '红牌楼站'],\n",
       " '红牌楼站': ['高升桥站', '太平园站'],\n",
       " '太平园站': ['红牌楼站', '高朋大道站', '武侯大道站', '簇锦站'],\n",
       " '万盛站': ['杨柳河站'],\n",
       " '杨柳河站': ['万盛站', '凤溪河站'],\n",
       " '凤溪河站': ['杨柳河站', '南熏大道站'],\n",
       " '南熏大道站': ['凤溪河站', '光华公园站'],\n",
       " '光华公园站': ['南熏大道站', '涌泉站'],\n",
       " '涌泉站': ['光华公园站', '凤凰大街站'],\n",
       " '凤凰大街站': ['涌泉站', '马厂坝站'],\n",
       " '马厂坝站': ['凤凰大街站', '非遗博览园站'],\n",
       " '非遗博览园站': ['马厂坝站', '蔡桥站'],\n",
       " '蔡桥站': ['非遗博览园站', '中坝站'],\n",
       " '中坝站': ['蔡桥站', '成都西站'],\n",
       " '成都西站': ['中坝站', '清江西路站'],\n",
       " '清江西路站': ['成都西站', '文化宫站'],\n",
       " '文化宫站': ['清江西路站', '西南财大站', '东坡路站', '金沙博物馆站'],\n",
       " '西南财大站': ['文化宫站', '草堂北路站'],\n",
       " '草堂北路站': ['西南财大站', '中医大省医院站'],\n",
       " '宽窄巷子站': ['中医大省医院站', '骡马市站'],\n",
       " '太升南路站': ['骡马市站', '市二医院站'],\n",
       " '玉双路站': ['市二医院站', '双桥路站'],\n",
       " '双桥路站': ['玉双路站', '万年场站'],\n",
       " '万年场站': ['双桥路站', '槐树店站'],\n",
       " '槐树店站': ['万年场站', '来龙站', '崔家店站', '迎晖路站'],\n",
       " '来龙站': ['槐树店站', '十陵站'],\n",
       " '十陵站': ['来龙站', '成都大学站'],\n",
       " '成都大学站': ['十陵站', '明蜀王陵站'],\n",
       " '明蜀王陵站': ['成都大学站', '西河站'],\n",
       " '西河站': ['明蜀王陵站'],\n",
       " '府青路站': ['驷马桥站', '八里庄站'],\n",
       " '八里庄站': ['府青路站', '二仙桥站'],\n",
       " '二仙桥站': ['八里庄站', '理工大学站'],\n",
       " '理工大学站': ['二仙桥站', '崔家店站'],\n",
       " '崔家店站': ['理工大学站', '槐树店站'],\n",
       " '迎晖路站': ['槐树店站', '成都东客站'],\n",
       " '大观站': ['成都东客站', '狮子山站'],\n",
       " '狮子山站': ['大观站', '四川师大站'],\n",
       " '四川师大站': ['狮子山站', '琉璃场站'],\n",
       " '琉璃场站': ['四川师大站', '三瓦窑站'],\n",
       " '三瓦窑站': ['琉璃场站', '火车南站'],\n",
       " '神仙树站': ['火车南站', '高朋大道站'],\n",
       " '高朋大道站': ['神仙树站', '太平园站'],\n",
       " '武侯大道站': ['太平园站', '龙爪堰站'],\n",
       " '龙爪堰站': ['武侯大道站', '东坡路站'],\n",
       " '东坡路站': ['龙爪堰站', '文化宫站'],\n",
       " '金沙博物馆站': ['文化宫站', '一品天下站'],\n",
       " '花照壁站': ['一品天下站', '西南交大站'],\n",
       " '西南交大站': ['花照壁站', '九里堤站'],\n",
       " '九里堤站': ['西南交大站', '北站西二路站'],\n",
       " '北站西二路站': ['九里堤站'],\n",
       " '簇锦站': ['太平园站', '华兴站'],\n",
       " '华兴站': ['簇锦站', '金花站'],\n",
       " '金花站': ['华兴站', '双流机场1航站楼站'],\n",
       " '双流机场1航站楼站': ['金花站', '双流机场2航站楼站'],\n",
       " '双流机场2航站楼站': ['双流机场1航站楼站']}"
      ]
     },
     "execution_count": 10,
     "metadata": {},
     "output_type": "execute_result"
    }
   ],
   "source": [
    "station = {}\n",
    "for sub in subwaydict:\n",
    "    for i, sta in enumerate(subwaydict[sub]):\n",
    "        if sta not in station:\n",
    "            station[sta] = []\n",
    "        if i - 1 >= 0:\n",
    "            station[sta].append(subwaydict[sub][i - 1])\n",
    "        if i + 1 <= len(subwaydict[sub]) - 1:\n",
    "            station[sta].append(subwaydict[sub][i + 1])\n",
    "            \n",
    "station"
   ]
  },
  {
   "cell_type": "code",
   "execution_count": 11,
   "metadata": {},
   "outputs": [
    {
     "name": "stdout",
     "output_type": "stream",
     "text": [
      "高升桥站🚇->衣冠庙站🚇->省体育馆站🚇->倪家桥站🚇->桐梓林站🚇->火车南站🚇->高新站🚇->金融城站🚇->孵化园站🚇->锦城广场站🚇->世纪城站🚇->天府三街站🚇->天府五街站\n"
     ]
    }
   ],
   "source": [
    "def shortest_path_first(pathes):\n",
    "    if len(pathes) <= 1: return pathes\n",
    "    return sorted(pathes,key=len)\n",
    "def search(start, destination, connection_grpah, sort_candidate):\n",
    "    if \"站\" not in start:\n",
    "        start+=\"站\"\n",
    "    if \"站\" not in destination:\n",
    "        destination+=\"站\"\n",
    "    if start not in connection_grpah:\n",
    "        return start+\"站点不存在\"\n",
    "    if destination not in connection_grpah:\n",
    "        return destination+\"站点不存在\"\n",
    "    pathes = [[start]]\n",
    "    visitied = list()\n",
    "    while pathes:  # if we find existing pathes\n",
    "        path = pathes.pop(0)\n",
    "        froninter = path[-1]\n",
    "        if froninter in visitied: continue\n",
    "        successors = connection_grpah[froninter]\n",
    "        for city in successors:\n",
    "            if city in path: continue  # eliminate loop\n",
    "            new_path = path+[city]\n",
    "            pathes.append(new_path)\n",
    "            if city == destination: return new_path\n",
    "        visitied.append(froninter)\n",
    "    pathes = sort_candidate(pathes)  # 我们可以加一个排序函数 对我们的搜索策略进行控制\n",
    "    return pathes\n",
    "\n",
    "\n",
    "def pretty_print(cities):\n",
    "    print('🚇->'.join(cities))\n",
    "    \n",
    "pretty_print(search('高升桥站', '天府五街站', station, sort_candidate=shortest_path_first))"
   ]
  },
  {
   "cell_type": "code",
   "execution_count": null,
   "metadata": {},
   "outputs": [],
   "source": []
  }
 ],
 "metadata": {
  "kernelspec": {
   "display_name": "Python 3",
   "language": "python",
   "name": "python3"
  },
  "language_info": {
   "codemirror_mode": {
    "name": "ipython",
    "version": 3
   },
   "file_extension": ".py",
   "mimetype": "text/x-python",
   "name": "python",
   "nbconvert_exporter": "python",
   "pygments_lexer": "ipython3",
   "version": "3.7.3"
  }
 },
 "nbformat": 4,
 "nbformat_minor": 2
}
