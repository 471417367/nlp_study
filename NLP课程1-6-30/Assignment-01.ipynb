{
 "cells": [
  {
   "cell_type": "markdown",
   "metadata": {},
   "source": [
    "## Lesson-01 Assignment"
   ]
  },
  {
   "cell_type": "markdown",
   "metadata": {},
   "source": [
    ">"
   ]
  },
  {
   "cell_type": "markdown",
   "metadata": {},
   "source": [
    "`各位同学大家好，欢迎各位开始学习我们的人工智能课程。这门课程假设大家不具备机器学习和人工智能的知识，但是希望大家具备初级的Python编程能力。根据往期同学的实际反馈，我们课程的完结之后 能力能够超过80%的计算机人工智能/深度学习方向的硕士生的能力。`"
   ]
  },
  {
   "cell_type": "markdown",
   "metadata": {},
   "source": [
    "## 本次作业的内容"
   ]
  },
  {
   "cell_type": "markdown",
   "metadata": {},
   "source": [
    "#### 1. 复现课堂代码\n",
    "\n",
    "在本部分，你需要参照我们给大家的GitHub地址里边的课堂代码，结合课堂内容，复现内容。"
   ]
  },
  {
   "cell_type": "markdown",
   "metadata": {},
   "source": [
    "#### 2. 请回答以下问题\n",
    "\n",
    "回答以下问题，并将问题发送至 mqgao@kaikeba.com中：\n",
    "```\n",
    "    2.1. what do you want to acquire in this course？\n",
    "    因为目前从事NLP行业，工作中遇到些问题，想系统学一下。\n",
    "    2.2. what problems do you want to solve？\n",
    "    自己在实现一些算法的时候遇到很多疑点，调参，环境搭建。\n",
    "    2.3. what’s the advantages you have to finish you goal?\n",
    "    不学习，心很慌。\n",
    "    2.4. what’s the disadvantages you need to overcome to finish you goal?\n",
    "    需要从休息时间中抽时间。\n",
    "    2.5. How will you plan to study in this course period?\n",
    "    看视频，定期完成作业，能顺利结业就行。\n",
    "    \n",
    "```"
   ]
  },
  {
   "cell_type": "markdown",
   "metadata": {},
   "source": [
    "#### 3. 如何提交\n",
    "代码 + 此 jupyter 相关，提交至自己的 github 中(**所以请务必把GitHub按照班主任要求录入在Trello中**)；\n",
    "第2问，请提交至mqgao@kaikeba.com邮箱。\n",
    "#### 4. 作业截止时间\n",
    "此次作业截止时间为 2019.7.6日"
   ]
  },
  {
   "cell_type": "markdown",
   "metadata": {},
   "source": [
    "#### 5. 完成以下问答和编程练习"
   ]
  },
  {
   "cell_type": "markdown",
   "metadata": {},
   "source": [
    ">"
   ]
  },
  {
   "cell_type": "markdown",
   "metadata": {},
   "source": [
    "## 基础理论部分"
   ]
  },
  {
   "cell_type": "markdown",
   "metadata": {},
   "source": [
    "#### 0. Can you come up out 3 sceneraies which use AI methods? "
   ]
  },
  {
   "cell_type": "markdown",
   "metadata": {},
   "source": [
    "Ans: 人工智能语音，自动驾驶，人脸识别。"
   ]
  },
  {
   "cell_type": "markdown",
   "metadata": {},
   "source": [
    "#### 1. How do we use Github; Why do we use Jupyter and Pycharm;"
   ]
  },
  {
   "cell_type": "markdown",
   "metadata": {},
   "source": [
    "Ans: 除了Pycharm不怎么用，其他的没有问题。"
   ]
  },
  {
   "cell_type": "markdown",
   "metadata": {},
   "source": [
    "#### 2. What's the Probability Model?"
   ]
  },
  {
   "cell_type": "markdown",
   "metadata": {},
   "source": [
    "Ans:机器学习大多模型都是基于概率的模型吧，典型的贝叶斯。"
   ]
  },
  {
   "cell_type": "markdown",
   "metadata": {},
   "source": [
    "#### 3. Can you came up with some sceneraies at which we could use Probability Model?"
   ]
  },
  {
   "cell_type": "markdown",
   "metadata": {},
   "source": [
    "Ans:预测房价，AB测试，垃圾邮件过滤"
   ]
  },
  {
   "cell_type": "markdown",
   "metadata": {},
   "source": [
    "#### 4. Why do we use probability and what's the difficult points for programming based on parsing and pattern match?"
   ]
  },
  {
   "cell_type": "markdown",
   "metadata": {},
   "source": [
    "Ans:有些事情是未知需要预测，有时候数据量太大可能的情况多到无法一一列举。"
   ]
  },
  {
   "cell_type": "markdown",
   "metadata": {},
   "source": [
    "#### 5. What's the Language Model;"
   ]
  },
  {
   "cell_type": "markdown",
   "metadata": {},
   "source": [
    "Ans:语法，词组顺序"
   ]
  },
  {
   "cell_type": "markdown",
   "metadata": {},
   "source": [
    "#### 6. Can you came up with some sceneraies at which we could use Language Model?\n"
   ]
  },
  {
   "cell_type": "markdown",
   "metadata": {},
   "source": [
    "Ans:语音识别，机器翻译"
   ]
  },
  {
   "cell_type": "markdown",
   "metadata": {},
   "source": [
    "#### 7. What's the 1-gram language model;"
   ]
  },
  {
   "cell_type": "markdown",
   "metadata": {},
   "source": [
    "Ans:分词过后，以单个词为特征的模型。"
   ]
  },
  {
   "cell_type": "markdown",
   "metadata": {},
   "source": [
    "#### 8. What's the disadvantages and advantages of 1-gram language model;"
   ]
  },
  {
   "cell_type": "markdown",
   "metadata": {},
   "source": [
    "Ans:没有考虑词所在的上下文，维度少运行快。但是对于有些需要联系上下文理解的词没有考虑到。"
   ]
  },
  {
   "cell_type": "markdown",
   "metadata": {},
   "source": [
    "#### 9. What't the 2-gram models;"
   ]
  },
  {
   "cell_type": "markdown",
   "metadata": {},
   "source": [
    "Ans:分词过后，相邻词语的两两结合。"
   ]
  },
  {
   "cell_type": "markdown",
   "metadata": {},
   "source": [
    "## 编程实践部分"
   ]
  },
  {
   "cell_type": "markdown",
   "metadata": {},
   "source": [
    "#### 1. 设计你自己的句子生成器"
   ]
  },
  {
   "cell_type": "markdown",
   "metadata": {},
   "source": [
    "如何生成句子是一个很经典的问题，从1940s开始，图灵提出机器智能的时候，就使用的是人类能不能流畅和计算机进行对话。和计算机对话的一个前提是，计算机能够生成语言。\n",
    "\n",
    "计算机如何能生成语言是一个经典但是又很复杂的问题。 我们课程上为大家介绍的是一种基于规则（Rule Based）的生成方法。该方法虽然提出的时间早，但是现在依然在很多地方能够大显身手。值得说明的是，现在很多很实用的算法，都是很久之前提出的，例如，二分查找提出与1940s, Dijstra算法提出于1960s 等等。"
   ]
  },
  {
   "cell_type": "markdown",
   "metadata": {},
   "source": [
    "在著名的电视剧，电影《西部世界》中，这些机器人们语言生成的方法就是使用的SyntaxTree生成语言的方法。\n",
    "\n",
    "> \n",
    ">\n",
    "\n",
    "![WstWorld](https://timgsa.baidu.com/timg?image&quality=80&size=b10000_10000&sec=1561818705&di=95ca9ff2ff37fcb88ae47b82c7079feb&src=http://s7.sinaimg.cn/mw690/006BKUGwzy75VK46FMi66&690)\n",
    "\n",
    "> \n",
    ">"
   ]
  },
  {
   "cell_type": "markdown",
   "metadata": {},
   "source": [
    "在这一部分，需要各位同学首先定义自己的语言。 大家可以先想一个应用场景，然后在这个场景下，定义语法。例如：\n",
    "\n",
    "在西部世界里，一个”人类“的语言可以定义为：\n",
    "``` \n",
    "human = \"\"\"\n",
    "human = 自己 寻找 活动\n",
    "自己 = 我 | 俺 | 我们 \n",
    "寻找 = 看看 | 找找 | 想找点\n",
    "活动 = 乐子 | 玩的\n",
    "\"\"\"\n",
    "```\n",
    "\n",
    "一个“接待员”的语言可以定义为\n",
    "```\n",
    "host = \"\"\"\n",
    "host = 寒暄 报数 询问 业务相关 结尾 \n",
    "报数 = 我是 数字 号 ,\n",
    "数字 = 单个数字 | 数字 单个数字 \n",
    "单个数字 = 1 | 2 | 3 | 4 | 5 | 6 | 7 | 8 | 9 \n",
    "寒暄 = 称谓 打招呼 | 打招呼\n",
    "称谓 = 人称 ,\n",
    "人称 = 先生 | 女士 | 小朋友\n",
    "打招呼 = 你好 | 您好 \n",
    "询问 = 请问你要 | 您需要\n",
    "业务相关 = 玩玩 具体业务\n",
    "玩玩 = 耍一耍 | 玩一玩\n",
    "具体业务 = 喝酒 | 打牌 | 打猎 | 赌博\n",
    "结尾 = 吗？\"\"\"\n",
    "\n",
    "```\n",
    "\n",
    "\n"
   ]
  },
  {
   "cell_type": "markdown",
   "metadata": {},
   "source": [
    "请定义你自己的语法: "
   ]
  },
  {
   "cell_type": "markdown",
   "metadata": {},
   "source": [
    "第一个语法："
   ]
  },
  {
   "cell_type": "code",
   "execution_count": 1,
   "metadata": {},
   "outputs": [],
   "source": [
    "grammar_student = '''\n",
    "student = 寒暄 报名 评价 结尾\n",
    "寒暄 = 称呼 问好\n",
    "称呼 = 老师 | 教授 | 大佬\n",
    "问好 = 您好， | 早上好，\n",
    "报名 = 我是 形容 Roy，\n",
    "形容 = CV班的 | NLP班的 | 学生\n",
    "评价 = 谁 的 课 讲得真好\n",
    "谁 = 高老师 | 刘教授 | 赵大佬\n",
    "课 = cv课 | NLP课 | 人工智能课\n",
    "结尾 = 啊！\n",
    "'''"
   ]
  },
  {
   "cell_type": "markdown",
   "metadata": {},
   "source": [
    "第二个语法："
   ]
  },
  {
   "cell_type": "code",
   "execution_count": 2,
   "metadata": {},
   "outputs": [],
   "source": [
    "grammar_teacher = '''\n",
    "teacher = 语气 主体 赞叹\n",
    "语气 = 是嘛！ | 确实啊！ | 那还用说，\n",
    "主体 = 我 事情 他的 什么\n",
    "事情 = 听说过 | 了解过\n",
    "什么 = 论文， | 直播课，\n",
    "赞叹 = 动作 很多知识。\n",
    "动作 = 能学到 | 能收获\n",
    "'''"
   ]
  },
  {
   "cell_type": "code",
   "execution_count": 3,
   "metadata": {},
   "outputs": [],
   "source": [
    "import random\n",
    "\n",
    "def create_grammar(grammar_str, split = '=', line_split = '\\n'):\n",
    "    '''\n",
    "    按指定要求切分字符串\n",
    "    参数：grammar_str是我们定义的语法字符串\n",
    "    返回值：切分后返回一个字典\n",
    "    '''\n",
    "    grammar = {}\n",
    "    for line in grammar_str.split(line_split):\n",
    "        if not line.strip(): continue\n",
    "        exp, stmt = line.split(split)\n",
    "        grammar[exp.strip()] = [s.split() for s in stmt.split('|')]\n",
    "        \n",
    "    return grammar\n",
    "\n",
    "gram_s = create_grammar(grammar_student)\n",
    "gram_t = create_grammar(grammar_teacher)"
   ]
  },
  {
   "cell_type": "markdown",
   "metadata": {},
   "source": [
    "TODO: 然后，使用自己之前定义的generate函数，使用此函数生成句子。"
   ]
  },
  {
   "cell_type": "code",
   "execution_count": 4,
   "metadata": {},
   "outputs": [
    {
     "name": "stdout",
     "output_type": "stream",
     "text": [
      "student: 大佬早上好，我是NLP班的Roy，赵大佬的NLP课讲得真好啊！\n",
      "teacher: 是嘛！我了解过他的论文，能收获很多知识。\n"
     ]
    }
   ],
   "source": [
    "def generate(gram, target):\n",
    "    '''\n",
    "    生产句子\n",
    "    参数：gram是我们切分语法字符串得到的字典\n",
    "          target是字典中的一个key\n",
    "    '''\n",
    "    if target not in gram: return target # means target is a terminal expression\n",
    "    \n",
    "    expaned = [generate(gram, t) for t in random.choice(gram[target])]\n",
    "    return ''.join([e if e != '/n' else '\\n' for e in expaned if e != 'null'])\n",
    "\n",
    "grammar_s = generate(gram_s, 'student')\n",
    "grammar_t = generate(gram_t, 'teacher')\n",
    "print('student: ' + grammar_s) \n",
    "print('teacher: ' + grammar_t) "
   ]
  },
  {
   "cell_type": "markdown",
   "metadata": {},
   "source": [
    "TODO: 然后，定义一个函数，generate_n，将generate扩展，使其能够生成n个句子:"
   ]
  },
  {
   "cell_type": "code",
   "execution_count": 5,
   "metadata": {},
   "outputs": [
    {
     "data": {
      "text/plain": [
       "'student0: 老师早上好，我是学生Roy，高老师的cv课讲得真好啊！teacher: 是嘛！我了解过他的直播课，能学到很多知识。*******student1: 老师您好，我是CV班的Roy，赵大佬的人工智能课讲得真好啊！teacher: 是嘛！我听说过他的直播课，能收获很多知识。*******student2: 大佬早上好，我是NLP班的Roy，赵大佬的cv课讲得真好啊！teacher: 是嘛！我了解过他的直播课，能学到很多知识。*******'"
      ]
     },
     "execution_count": 5,
     "metadata": {},
     "output_type": "execute_result"
    }
   ],
   "source": [
    "def generate_n(n):\n",
    "    '''\n",
    "    '''\n",
    "    dialogue = ''\n",
    "    for i in range(n):\n",
    "        grammar_s = generate(gram_s, 'student')\n",
    "        grammar_t = generate(gram_t, 'teacher')\n",
    "        dialogue = dialogue + 'student' + str(i) + ': ' +grammar_s  + 'teacher: ' + grammar_t + '*******'\n",
    "        \n",
    "    return dialogue\n",
    "        \n",
    "generate_n(3)"
   ]
  },
  {
   "cell_type": "markdown",
   "metadata": {},
   "source": [
    "#### 2. 使用新数据源完成语言模型的训练"
   ]
  },
  {
   "cell_type": "markdown",
   "metadata": {},
   "source": [
    "按照我们上文中定义的`prob_2`函数，我们更换一个文本数据源，获得新的Language Model:\n",
    "\n",
    "1. 下载文本数据集（你可以在以下数据集中任选一个，也可以两个都使用）\n",
    "    + 可选数据集1，保险行业问询对话集： https://github.com/Computing-Intelligence/insuranceqa-corpus-zh/raw/release/corpus/pool/train.txt.gz\n",
    "    + 可选数据集2：豆瓣评论数据集：https://github.com/Computing-Intelligence/datasource/raw/master/movie_comments.csv\n",
    "2. 修改代码，获得新的**2-gram**语言模型\n",
    "    + 进行文本清洗，获得所有的纯文本\n",
    "    + 将这些文本进行切词\n",
    "    + 送入之前定义的语言模型中，判断文本的合理程度"
   ]
  },
  {
   "cell_type": "code",
   "execution_count": 6,
   "metadata": {},
   "outputs": [
    {
     "data": {
      "text/plain": [
       "['\\ufeff0 ',\n",
       " ' disability-insurance ',\n",
       " ' 法律要求残疾保险吗？ ',\n",
       " ' Is  Disability  Insurance  Required  By  Law?\\n1 ',\n",
       " ' life-insurance ',\n",
       " ' 债权人可以在死后人寿保险吗？ ',\n",
       " ' Can  Creditors  Take  Life  Insurance  After  Death?\\n2 ',\n",
       " ' renters-insurance ',\n",
       " ' 旅行者保险有租赁保险吗？ ',\n",
       " ' Does  Travelers  Insurance  Have  Renters  Insurance?\\n3 ',\n",
       " ' auto-insurance ',\n",
       " ' 我可以开一辆没有保险的新车吗？ ',\n",
       " ' Can  I  Drive  A  New  Car  Home  Without  Insurance?\\n4 ',\n",
       " ' life-insurance ',\n",
       " ' 人寿保险的现金转出价值是否应纳税？ ',\n",
       " ' Is  The  Cash  Surrender  Value  Of  Life  Insurance  Taxable?\\n5 ',\n",
       " ' annuities ',\n",
       " ' 如何报告年金收入？ ',\n",
       " ' How  Is  Annuity  Income  Reported?\\n6 ',\n",
       " ' home-insurance ',\n",
       " ' AAA家庭保险涵盖什么？ ',\n",
       " ' What  Does  AAA  Home  Insurance  Cover?\\n7 ',\n",
       " ' retirement-plans ',\n",
       " ' 什么是简单的退休计划？ ',\n",
       " ' What  Is  A  Simple  Retirement  Plan?\\n8 ',\n",
       " ' disability-insurance ',\n",
       " ' 社会保险残疾保险是什么？ ',\n",
       " ' What  Does  Social  Security  Disability  Insurance  Cover?\\n9 ',\n",
       " ' auto-insurance ',\n",
       " ' 汽车保险是否预付？ ',\n",
       " ' Is  Car  Insurance  Prepaid?\\n10 ',\n",
       " ' medicare-insurance ',\n",
       " ' 医疗保险B部分盖什么？ ',\n",
       " ' What  Does  Medicare  Part  B  Cover?\\n11 ',\n",
       " ' life-insurance ',\n",
       " ' 退伍军人能否获得人寿保险？ ',\n",
       " ' Can  Veterans  Get  Life  Insurance?\\n12 ',\n",
       " ' home-insurance ',\n",
       " ' 我的房主保险是否包括失去的结婚戒指？ ',\n",
       " ' Does  My  Homeowners  Insurance  Cover  Lost  Wedding  Ring?\\n13 ',\n",
       " ' auto-insurance ',\n",
       " ' 分配风险汽车保险如何工作？ ',\n",
       " ' How  Does  Assigned  Risk  Auto  Insurance  Work?\\n14 ',\n",
       " ' auto-insurance ',\n",
       " ' 我的男朋友可以加我的汽车保险吗？ ',\n",
       " ' Can  My  Boyfriend  Add  Me  To  His  Car  Insurance?\\n15 ',\n",
       " ' auto-insurance ',\n",
       " ' 我是否需要提交私人财产车祸索赔的警察报告？ ',\n",
       " ' Do  I  Need  A  Police  Report  To  Submit  A  Claim  For  A  Car  Accident  On  Private  Property?\\n16 ',\n",
       " ' auto-insurance ',\n",
       " ' 全覆盖汽车保险盖修理？ ',\n",
       " ' Does  Full  Coverage  Auto  Insurance  Cover  Repairs?\\n17 ',\n",
       " ' life-insurance ',\n",
       " ' 人生在伊斯兰教中是否可以接受？ ',\n",
       " ' Is  Life  Insurance  Acceptable  In  Islam?\\n18 ',\n",
       " ' health-insurance ',\n",
       " ' 健康保险是否覆盖管道逆转？ ',\n",
       " ' Will  Health  Insurance  Cover  A  Tubal  Reversal?\\n19 ',\n",
       " ' life-insurance ',\n",
       " ' 如果您已经诊断为乳腺癌，您可以获得多大的人寿保险？ ',\n",
       " ' How  Much  Life  Insurance  Can  You  Get  If  You  Have  Been  Diagnosed  With  Breast  Cancer?\\n20 ',\n",
       " ' medicare-insurance ',\n",
       " ' 我需要注册医疗保险？ ',\n",
       " ' What  Do  I  Need  To  Register  For  Medicare?\\n21 ',\n",
       " ' disability-insurance ',\n",
       " ' 短期残疾保险是否工作？ ',\n",
       " ' Does  Short  Term  Disability  Insurance  Work?\\n22 ',\n",
       " ' home-insurance ',\n",
       " ' 房主保险盖池？ ',\n",
       " ' Will  Homeowners  Insurance  Cover  Pool?\\n23 ',\n",
       " ' medicare-insurance ',\n",
       " ' 什么时候要注册医疗保险？ ',\n",
       " ' When  Do  I  Have  To  Sign  Up  For  Medicare?\\n24 ',\n",
       " ' auto-insurance ',\n",
       " ' MIP会影响我的汽车保险吗？ ',\n",
       " ' Will  An  MIP  Affect  My  Car  Insurance?\\n25 ',\n",
       " ' life-insurance ',\n",
       " ' 蓝十字蓝盾有人寿保险吗？ ',\n",
       " ' Does  Blue  Cross  Blue  Shield  Have  Life  Insurance?\\n26 ',\n",
       " ' long-term-care-insurance ',\n",
       " ' 长期护理保险的优点和缺点是什么？ ',\n",
       " ' What  Are  The  Advantages  And  Disadvantages  To  Long  Term  Care  Insurance?\\n27 ',\n",
       " ' medicare-insurance ',\n",
       " ' 医疗保险支付生命预警？ ',\n",
       " ' Will  Medicare  Pay  For  Life  Alert?\\n28 ',\n",
       " ' life-insurance ',\n",
       " ' 我应该买哪种人寿？ ',\n",
       " ' Which  Life  Insurance  Should  I  Buy?\\n29 ',\n",
       " ' medicare-insurance ',\n",
       " ' 医疗保险支付HPV筛查吗？ ',\n",
       " ' Does  Medicare  Pay  For  HPV  Screening?\\n30 ',\n",
       " ' life-insurance ',\n",
       " ' 哪个是最好的人寿保险？ ',\n",
       " ' Which  Is  The  Best  Life  Insurance  To  Get?\\n31 ',\n",
       " ' long-term-care-insurance ',\n",
       " ' 长期护理保险费用多少？ ',\n",
       " ' How  Much  Should  Long  Term  Care  Insurance  Cost?\\n32 ',\n",
       " ' annuities ',\n",
       " ' 固定年金如何安全？ ',\n",
       " ' How  Safe  Are  Fixed  Annuities?\\n33 ',\n",
       " ' life-insurance ',\n",
       " ' 要解决人寿保险索赔需要多长时间？ ',\n",
       " ' How  Long  Does  It  Take  To  Settle  A  Life  Insurance  Claim?\\n34 ',\n",
       " ' auto-insurance ',\n",
       " ' 是否检查汽车保险信贷？ ',\n",
       " ' Is  Car  Insurance  Credit  Checked?\\n35 ',\n",
       " ' long-term-care-insurance ',\n",
       " ' 我可以使用HSA支付长期护理保险吗？ ',\n",
       " ' Can  I  Use  HSA  To  Pay  For  Long  Term  Care  Insurance?\\n36 ',\n",
       " ' health-insurance ',\n",
       " ' 雇主可以向吸烟者收取更多健康保险费吗？ ',\n",
       " ' Can  Employers  Charge  Smokers  More  For  Health  Insurance?\\n37 ',\n",
       " ' home-insurance ',\n",
       " ' 房屋所有权保险通常覆盖什么？ ',\n",
       " ' What  Does  Home  Owners  Insurance  Usually  Cover?\\n38 ',\n",
       " ' health-insurance ',\n",
       " ' 没有健康保险的超声波成本是多少？ ',\n",
       " ' How  Much  Does  An  Ultrasound  Cost  Without  Health  Insurance?\\n39 ',\n",
       " ' life-insurance ',\n",
       " ' 什么是10年期人寿保险？ ',\n",
       " ' What  Is  10  Yr  Term  Life  Insurance?\\n40 ',\n",
       " ' retirement-plans ',\n",
       " ' 你可以把钱放在一个401K和一个Roth IRA？ ',\n",
       " ' Can  You  Put  Money  In  A  401K  And  A  Roth  IRA?\\n41 ',\n",
       " ' health-insurance ',\n",
       " ' 我可以用丙型肝炎保险吗？ ',\n",
       " ' Can  I  Get  Health  Insurance  With  Hepatitis  C?\\n42 ',\n",
       " ' medicare-insurance ',\n",
       " ' 什么时候可以注册医疗保险A部分？ ',\n",
       " ' When  Can  I  Enroll  In  Medicare  Part  A?\\n43 ',\n",
       " ' health-insurance ',\n",
       " ' 健康保险何时起源？ ',\n",
       " ' When  Did  Health  Insurance  Originate?\\n44 ',\n",
       " ' health-insurance ',\n",
       " ' 医疗保险有多重要？ ',\n",
       " ' How  Important  Is  Health  Care  Insurance?\\n45 ',\n",
       " ' renters-insurance ',\n",
       " ' 租用保险费用多少？ ',\n",
       " ' How  Much  Does  It  Cost  To  Get  Renters  Insurance?\\n46 ',\n",
       " ' home-insurance ',\n",
       " ' 我的家庭保险是否覆盖盗窃？ ',\n",
       " ' Does  My  Home  Insurance  Cover  Theft?\\n47 ',\n",
       " ' renters-insurance ',\n",
       " ' 租户保险如何受益业主？ ',\n",
       " ' How  Does  Renters  Insurance  Benefit  The  Landlord?\\n48 ',\n",
       " ' health-insurance ',\n",
       " ' 俄亥俄州雇主是否必须提供健康保险？ ',\n",
       " ' Do  Ohio  Employers  Have  To  Offer  Health  Insurance?\\n49 ',\n",
       " ' auto-insurance ',\n",
       " ' 我应该有多少汽车保险？ ',\n",
       " ' How  Much  Auto  Insurance  Should  I  Have?\\n50 ',\n",
       " ' home-insurance ',\n",
       " ' 为什么房主保险增加？ ',\n",
       " ' Why  Does  Homeowners  Insurance  Increase?\\n51 ',\n",
       " ' medicare-insurance ',\n",
       " ' 谁能买医保？ ',\n",
       " ' Who  Can  Buy  Medicare?\\n52 ',\n",
       " ' medicare-insurance ',\n",
       " ' 如何清除Medicare B部分？ ',\n",
       " ' How  To  Remove  Medicare  Part  B?\\n53 ',\n",
       " ' long-term-care-insurance ',\n",
       " ' 在什么年龄我应该得到长期护理保险？ ',\n",
       " ' At  What  Age  Should  I  Get  Long  Term  Care  Insurance?\\n54 ',\n",
       " ' life-insurance ',\n",
       " ' 人寿保险死亡福利是否应纳税？ ',\n",
       " ' When  Are  Life  Insurance  Death  Benefits  Taxable?\\n55 ',\n",
       " ' medicare-insurance ',\n",
       " ' 什么是医疗储蓄计划？ ',\n",
       " ' What  Are  Medicare  Savings  Programs?\\n56 ',\n",
       " ' home-insurance ',\n",
       " ' 房主保险是否向其他狗盖狗叮咬？ ',\n",
       " ' Does  Homeowners  Insurance  Cover  Dog  Bites  To  Other  Dogs?\\n57 ',\n",
       " ' medicare-insurance ',\n",
       " ' 医疗保险计划盖什么？ ',\n",
       " ' What  Does  Medicare  Plan  A  Cover?\\n58 ',\n",
       " ' life-insurance ',\n",
       " ' 全人寿保险是一个好的选择吗？ ',\n",
       " ' Is  Whole  Life  Insurance  A  Good  Option?\\n59 ',\n",
       " ' health-insurance ',\n",
       " ' 雇主可以提供不同数额的健康保险吗？ ',\n",
       " ' Can  Employers  Contribute  Different  Amounts  Health  Insurance?\\n60 ',\n",
       " ' medicare-insurance ',\n",
       " ' 将来会发生什么医疗保险？ ',\n",
       " ' What  Will  Happen  To  Medicare  In  The  Future?\\n61 ',\n",
       " ' life-insurance ',\n",
       " ' 一般人寿保险？ ',\n",
       " ' Can  The  General  Life  Insurance?\\n62 ',\n",
       " ' auto-insurance ',\n",
       " ' 我的汽车保险是否会如果得到机票呢？ ',\n",
       " ' Will  My  Auto  Insurance  Go  Up  If  Get  Ticket?\\n63 ',\n",
       " ' renters-insurance ',\n",
       " ' 租客保险是否包括盗窃？ ',\n",
       " ' Does  Renters  Insurance  Include  Theft?\\n64 ',\n",
       " ' renters-insurance ',\n",
       " ' 什么是租赁保险？ ',\n",
       " ' What  Is  A  Renters  Insurance  Policy?\\n65 ',\n",
       " ' home-insurance ',\n",
       " ' 如何计算家庭保险？ ',\n",
       " ' How  Is  Home  Insurance  Calculated?\\n66 ',\n",
       " ' home-insurance ',\n",
       " ' 房主保险是否覆盖下水道维修？ ',\n",
       " ' Does  Homeowners  Insurance  Cover  Sewer  Repair?\\n67 ',\n",
       " ' long-term-care-insurance ',\n",
       " ' AARP是否有长期护理保险？ ',\n",
       " ' Does  AARP  Have  Long  Term  Care  Insurance?\\n68 ',\n",
       " ' disability-insurance ',\n",
       " ' 短期残疾考虑健康保险吗？ ',\n",
       " ' Is  Short  Term  Disability  Considered  Health  Insurance?\\n69 ',\n",
       " ' life-insurance ',\n",
       " ' 在什么年龄你应该得到人寿保险？ ',\n",
       " ' At  What  Age  Should  You  Get  Life  Insurance?\\n70 ',\n",
       " ' home-insurance ',\n",
       " ' 旅行者家庭保险好吗？ ',\n",
       " ' Is  Travelers  Home  Insurance  Any  Good?\\n71 ',\n",
       " ' medicare-insurance ',\n",
       " ' 谁能得到医疗保险？ ',\n",
       " ' Who  Can  Get  On  Medicare?\\n72 ',\n",
       " ' renters-insurance ',\n",
       " ' 谁有最优惠的租金保险费率？ ',\n",
       " ' Who  Has  The  Best  Rates  For  Renters  Insurance?\\n73 ',\n",
       " ' auto-insurance ',\n",
       " ' 谁能驾驶你的车在你的保险？ ',\n",
       " ' Who  Can  Drive  Your  Car  Under  Your  Insurance?\\n74 ',\n",
       " ' medicare-insurance ',\n",
       " ' 医疗保险可以支付养老院吗？ ',\n",
       " ' Can  Medicare  Pay  For  Nursing  Homes?\\n75 ',\n",
       " ' auto-insurance ',\n",
       " ' 如果汽车保险失败，会发生什么？ ',\n",
       " ' What  Happens  If  Car  Insurance  Lapses?\\n76 ',\n",
       " ' home-insurance ',\n",
       " ' 车库门由房主保险覆盖？ ',\n",
       " ' Is  Garage  Door  Covered  By  Homeowners  Insurance?\\n77 ',\n",
       " ' medicare-insurance ',\n",
       " ' 我在哪里注册医疗保险？ ',\n",
       " ' Where  Do  I  Sign  Up  For  Medicare?\\n78 ',\n",
       " ' auto-insurance ',\n",
       " ' 如何获得汽车保险最佳交易？ ',\n",
       " ' How  To  Get  The  Best  Deal  On  Auto  Insurance?\\n79 ',\n",
       " ' medicare-insurance ',\n",
       " ' 在新泽西州如何申请Medicare Part D？ ',\n",
       " ' How  Do  You  Apply  For  Medicare  Part  D  In  New  Jersey?\\n80 ',\n",
       " ' renters-insurance ',\n",
       " ' 哪家公司提供最佳租赁保险？ ',\n",
       " ' Which  Company  Offers  The  Best  Renters  Insurance?\\n81 ',\n",
       " ' life-insurance ',\n",
       " ' 全人寿保险有哪些特点？ ',\n",
       " ' What  Are  Some  Characteristics  Of  Whole  Life  Insurance?\\n82 ',\n",
       " ' annuities ',\n",
       " ' 什么是年金种现金流？ ',\n",
       " ' What  Is  Annuity  Kind  Of  Cash  Flow?\\n83 ',\n",
       " ' life-insurance ',\n",
       " ' 可以在乳腺癌后获得人身保险吗？ ',\n",
       " ' Can  You  Get  Life  Insurance  After  Breast  Cancer?\\n84 ',\n",
       " ' auto-insurance ',\n",
       " ' 如何找出多少汽车保险呢？ ',\n",
       " ' How  To  Figure  Out  How  Much  Car  Insurance  Will  Be?\\n85 ',\n",
       " ' retirement-plans ',\n",
       " ' 如何计划退休与401K？ ',\n",
       " ' How  To  Plan  For  Retirement  With  A  401K?\\n86 ',\n",
       " ' health-insurance ',\n",
       " ' 什么是不符合奥巴马的健康保险的税收减免？ ',\n",
       " ' What  Is  The  Tax  Penalty  For  Not  Having  Health  Insurance  Under  Obamacare?\\n87 ',\n",
       " ' medicare-insurance ',\n",
       " ' 你能失去医疗福利吗？ ',\n",
       " ' Can  You  Lose  Medicare  Benefits?\\n88 ',\n",
       " ' home-insurance ',\n",
       " ' 房主保险是否会损失钻石？ ',\n",
       " ' Will  Homeowners  Insurance  Cover  A  Lost  Diamond?\\n89 ',\n",
       " ' long-term-care-insurance ',\n",
       " ' 长期护理保险费用多少？ ',\n",
       " ' How  Much  Do  Long  Term  Care  Insurance  Policies  Cost?\\n90 ',\n",
       " ' life-insurance ',\n",
       " ' 何时应该停止支付人寿保险？ ',\n",
       " ' When  Should  I  Stop  Paying  For  Life  Insurance?\\n91 ',\n",
       " ' medicare-insurance ',\n",
       " ' 你去医疗保险什么年龄？ ',\n",
       " ' What  Age  Do  You  Go  On  Medicare?\\n92 ',\n",
       " ' life-insurance ',\n",
       " ' 人寿保险公司如何吸烟？ ',\n",
       " ' How  Can  Life  Insurance  Companies  Tell  If  You  Are  A  Smoker?\\n93 ',\n",
       " ' long-term-care-insurance ',\n",
       " ' 如何确定您是否需要长期护理保险？ ',\n",
       " ' How  To  Determine  If  You  Need  Long  Term  Care  Insurance?\\n94 ',\n",
       " ' auto-insurance ',\n",
       " ' 谁制造汽车保险？ ',\n",
       " ' Who  Made  Car  Insurance  Mandatory?\\n95 ',\n",
       " ' life-insurance ',\n",
       " ' 什么时候应该得到期限人寿保险？ ',\n",
       " ' When  Should  I  Get  Term  Life  Insurance?\\n96 ',\n",
       " ' auto-insurance ',\n",
       " ' 信用与汽车保险有什么关系？ ',\n",
       " ' What  Does  Credit  Have  To  Do  With  Auto  Insurance?\\n97 ',\n",
       " ' home-insurance ',\n",
       " ' 家庭保险是否支付屋顶更换？ ',\n",
       " ' Will  Home  Insurance  Pay  For  Roof  Replacement?\\n98 ',\n",
       " ' auto-insurance ',\n",
       " ' 谁拥有最好和最便宜的汽车保险？ ',\n",
       " ' Who  Has  The  Best  And  Cheapest  Car  Insurance?\\n99 ',\n",
       " ' auto-insurance ',\n",
       " ' 你能租汽车保险吗？ ',\n",
       " ' Can  You  Rent  A  Uhaul  With  Car  Insurance?\\n100 ',\n",
       " ' home-insurance ',\n",
       " ' 房主保险涵盖什么？ ',\n",
       " \" What's  Covered  In  Homeowners  Insurance?\\n101 \",\n",
       " ' long-term-care-insurance ',\n",
       " ' 我可以为我母亲购买长期护理保险吗？ ',\n",
       " ' Can  I  Buy  Long  Term  Care  Insurance  For  My  Mother?\\n102 ',\n",
       " ' life-insurance ',\n",
       " ' 什么是完全实行人寿保险？ ',\n",
       " ' What  Is  A  Fully  Paid-Up  Life  Insurance  Policy?\\n103 ',\n",
       " ' life-insurance ',\n",
       " ' 我可以得到高血压的人寿保险吗？ ',\n",
       " ' Can  I  Get  Life  Insurance  With  Hypertension?\\n104 ',\n",
       " ' renters-insurance ',\n",
       " ' 如何找到好的租客保险？ ',\n",
       " ' How  To  Find  Good  Renters  Insurance?\\n105 ',\n",
       " ' auto-insurance ',\n",
       " ' 什么是考虑用于保险目的的跑车？ ',\n",
       " ' What  Is  Considered  A  Sports  Car  For  Insurance  Purposes?\\n106 ',\n",
       " ' home-insurance ',\n",
       " ' 家庭保险涵盖什么？ ',\n",
       " ' What  Is  Covered  Under  Home  Insurance?\\n107 ',\n",
       " ' retirement-plans ',\n",
       " ' 为什么现在重新计划退休？ ',\n",
       " ' Why  Is  It  Important  To  Plan  For  Retirement  Now?\\n108 ',\n",
       " ' auto-insurance ',\n",
       " ' 为什么要为汽车保险付钱？ ',\n",
       " ' Why  Do  Guys  Pay  More  For  Car  Insurance?\\n109 ',\n",
       " ' home-insurance ',\n",
       " ' 移动家庭保险如何便宜？ ',\n",
       " ' How  Cheap  Is  Mobile  Home  Insurance?\\n110 ',\n",
       " ' life-insurance ',\n",
       " ' 可以在乳腺癌后获得人身保险吗？ ',\n",
       " ' Can  I  Get  Life  Insurance  After  Breast  Cancer?\\n111 ',\n",
       " ' disability-insurance ',\n",
       " ' 多少人使用残疾保险？ ',\n",
       " ' How  Many  People  Use  Disability  Insurance?\\n112 ',\n",
       " ' auto-insurance ',\n",
       " ' 您的汽车保险涵盖谁？ ',\n",
       " ' Who  Is  Covered  Under  Your  Auto  Insurance?\\n113 ',\n",
       " ' medicare-insurance ',\n",
       " ' 什么是Medigap计划？ ',\n",
       " ' What  Is  A  Medigap  Plan?\\n114 ',\n",
       " ' health-insurance ',\n",
       " ' 如何增加健康保险？ ',\n",
       " ' How  To  Add  A  Dependent  To  Health  Insurance?\\n115 ',\n",
       " ' disability-insurance ',\n",
       " ' 长期残疾保险多久？ ',\n",
       " ' How  Long  Does  Long  Term  Disability  Insurance  Last?\\n116 ',\n",
       " ' life-insurance ',\n",
       " ' 全人寿保险不好吗 ',\n",
       " ' Is  Whole  Life  Insurance  Bad?\\n117 ',\n",
       " ' auto-insurance ',\n",
       " ' 犹他州的平均车险是多少？ ',\n",
       " ' What  Is  The  Average  Car  Insurance  Rate  In  Utah?\\n118 ',\n",
       " ' life-insurance ',\n",
       " ' 伟大的西方人寿是否涵盖旅游保险？ ',\n",
       " ' Does  Great  West  Life  Cover  Travel  Insurance?\\n119 ',\n",
       " ' life-insurance ',\n",
       " ' 定期人寿保险在特定年龄结束吗？ ',\n",
       " ' Does  Term  Life  Insurance  End  At  A  Certain  Age?\\n120 ',\n",
       " ' home-insurance ',\n",
       " ' 房主保险是否覆盖火器？ ',\n",
       " ' Does  Homeowners  Insurance  Cover  Firearms?\\n121 ',\n",
       " ' retirement-plans ',\n",
       " ' 共同基金的资产净值是多少？ ',\n",
       " ' What  Is  Net  Asset  Value  Of  A  Mutual  Fund?\\n122 ',\n",
       " ' health-insurance ',\n",
       " ' 哪些国家有最好的健康保险？ ',\n",
       " ' Which  States  Have  The  Best  Health  Insurance?\\n123 ',\n",
       " ' retirement-plans ',\n",
       " ' 为什么重要计划退休？ ',\n",
       " ' Why  Is  It  Important  To  Plan  For  Retirement?\\n124 ',\n",
       " ' disability-insurance ',\n",
       " ' 多少残疾保险足够了？ ',\n",
       " ' How  Much  Disability  Insurance  Is  Enough?\\n125 ',\n",
       " ' life-insurance ',\n",
       " ' 骑手在人寿保险中意味着什么？ ',\n",
       " ' What  Does  Rider  Mean  In  Life  Insurance?\\n126 ',\n",
       " ' long-term-care-insurance ',\n",
       " ' 你为长期护理保险支付多少钱？ ',\n",
       " ' How  Much  Do  You  Pay  For  Long  Term  Care  Insurance?\\n127 ',\n",
       " ' renters-insurance ',\n",
       " ' 我可以要求什么租客保险？ ',\n",
       " ' What  Can  I  Claim  On  Renters  Insurance?\\n128 ',\n",
       " ' health-insurance ',\n",
       " ' 健康保险额定值是多少？ ',\n",
       " ' What  Does  Health  Insurance  Rated  Mean?\\n129 ',\n",
       " ' life-insurance ',\n",
       " ' 你如何计算人寿保险的期望回报？ ',\n",
       " ' How  Would  You  Calculate  The  Expected  Return  On  A  Life  Insurance  Policy?\\n130 ',\n",
       " ' auto-insurance ',\n",
       " ' 没有驾照吗？ ',\n",
       " ' Can  I  Get  Auto  Insurance  Without  A  Driver  License?\\n131 ',\n",
       " ' medicare-insurance ',\n",
       " ' 什么时候是符合医疗保险D部分的人？ ',\n",
       " ' When  Is  A  Person  Eligible  For  Medicare  Part  D?\\n132 ',\n",
       " ' auto-insurance ',\n",
       " ' 汽车保险是联邦要求吗？ ',\n",
       " ' Is  Auto  Insurance  A  Federal  Requirement?\\n133 ',\n",
       " ' auto-insurance ',\n",
       " ' 你能得到不良信用的汽车保险吗？ ',\n",
       " ' Can  You  Get  Auto  Insurance  With  Bad  Credit?\\n134 ',\n",
       " ' life-insurance ',\n",
       " ' HIPPA适用于人寿保险公司吗？ ',\n",
       " ' Does  HIPPA  Apply  To  Life  Insurance  Companies?\\n135 ',\n",
       " ' auto-insurance ',\n",
       " ' DUI后汽车保险费用多少？ ',\n",
       " ' How  Much  Does  Auto  Insurance  Cost  After  A  DUI?\\n136 ',\n",
       " ' home-insurance ',\n",
       " ' 购买家庭时多少保险？ ',\n",
       " ' How  Much  Is  Insurance  When  Buying  A  Home?\\n137 ',\n",
       " ' medicare-insurance ',\n",
       " ' 什么是Medigap政策？ ',\n",
       " ' What  Is  The  Medigap  Policy?\\n138 ',\n",
       " ' renters-insurance ',\n",
       " ' 租客保险是否涵盖失去的订婚戒指？ ',\n",
       " ' Does  Renters  Insurance  Cover  A  Lost  Engagement  Ring?\\n139 ',\n",
       " ' medicare-insurance ',\n",
       " ' Obamacare覆盖Medigap？ ',\n",
       " ' Does  Obamacare  Cover  Medigap?\\n140 ',\n",
       " ' renters-insurance ',\n",
       " ' 全国租赁保险多少？ ',\n",
       " ' How  Much  Is  Nationwide  Renters  Insurance?\\n141 ',\n",
       " ' life-insurance ',\n",
       " ' 谁卖出抵押人寿保险？ ',\n",
       " ' Who  Sells  Mortgage  Life  Insurance?\\n142 ',\n",
       " ' life-insurance ',\n",
       " ' 我的人寿保险是否覆盖跳伞？ ',\n",
       " ' Does  My  Life  Insurance  Cover  Skydiving?\\n143 ',\n",
       " ' health-insurance ',\n",
       " ' 健康保险是否覆盖皮肤清除手术？ ',\n",
       " ' Does  Health  Insurance  Cover  Skin  Removal  Surgery?\\n144 ',\n",
       " ' health-insurance ',\n",
       " ' 没有健康保险的皮肤科医生花费多少钱？ ',\n",
       " ' How  Much  Does  It  Cost  To  See  A  Dermatologist  Without  Health  Insurance?\\n145 ',\n",
       " ' health-insurance ',\n",
       " ' 在哪里得到健康保险与预先存在的条件？ ',\n",
       " ' Where  To  Get  Health  Insurance  With  A  Preexisting  Condition?\\n146 ',\n",
       " ' life-insurance ',\n",
       " ' 是否USAA卖人寿保险？ ',\n",
       " ' Does  USAA  Sell  Life  Insurance?\\n147 ',\n",
       " ' disability-insurance ',\n",
       " ' 联邦政府是否有残疾保险？ ',\n",
       " ' Does  The  Federal  Government  Have  Disability  Insurance?\\n148 ',\n",
       " ' life-insurance ',\n",
       " ' 什么是人寿保险股？ ',\n",
       " ' What  Is  A  Life  Insurance  Unit?\\n149 ',\n",
       " ' disability-insurance ',\n",
       " ' 残疾人保险在平均水平上有多大？ ',\n",
       " ' How  Much  Is  Disability  Insurance  On  Average?\\n150 ',\n",
       " ' life-insurance ',\n",
       " ' 你可以提交人寿保险吗？ ',\n",
       " ' Can  You  Surrender  A  Life  Insurance  Policy?\\n151 ',\n",
       " ' life-insurance ',\n",
       " ' 人寿保险是否考虑收入？ ',\n",
       " ' Is  Life  Insurance  Considered  Income?\\n152 ',\n",
       " ' disability-insurance ',\n",
       " ' 什么时候应该得到残疾保险？ ',\n",
       " ' When  Should  I  Get  Disability  Insurance?\\n153 ',\n",
       " ' renters-insurance ',\n",
       " ' 租金保险费用多少？ ',\n",
       " ' How  Much  Does  It  Cost  For  Renters  Insurance?\\n154 ',\n",
       " ' auto-insurance ',\n",
       " ' 新罕布什尔州是否需要汽车保险？ ',\n",
       " ' Does  New  Hampshire  Require  Auto  Insurance?\\n155 ',\n",
       " ' disability-insurance ',\n",
       " ' 您的工资有多少由残疾保险承担？ ',\n",
       " ' How  Much  Of  Your  Salary  Is  Covered  By  Disability  Insurance?\\n156 ',\n",
       " ' medicare-insurance ',\n",
       " ' 哪个药店接受医疗保险？ ',\n",
       " ' Which  Pharmacies  Accept  Medicare?\\n157 ',\n",
       " ' auto-insurance ',\n",
       " ' 需要多长时间才能获得汽车保险？ ',\n",
       " ' How  Long  Will  It  Take  To  Get  Car  Insurance?\\n158 ',\n",
       " ' medicare-insurance ',\n",
       " ' 什么是医疗保险？ ',\n",
       " ' What  Is  Medicare  Hospice?\\n159 ',\n",
       " ' life-insurance ',\n",
       " ' 如何确定期限人寿保险的现金价值？ ',\n",
       " ' How  Do  You  Determine  Cash  Value  Of  Term  Life  Insurance  Policy?\\n160 ',\n",
       " ' life-insurance ',\n",
       " ' 人寿保险为您的葬礼付钱吗？ ',\n",
       " ' Does  Life  Insurance  Pay  For  Your  Funeral?\\n161 ',\n",
       " ' health-insurance ',\n",
       " ' 你的健康保险可以让孩子多久？ ',\n",
       " ' How  Long  Can  You  Keep  A  Child  On  Your  Health  Insurance?\\n162 ',\n",
       " ' health-insurance ',\n",
       " ' 健康保险税何时可以扣除？ ',\n",
       " ' When  Is  Health  Insurance  Tax  Deductible?\\n163 ',\n",
       " ' annuities ',\n",
       " ' Suze Orman对可变年金说什么？ ',\n",
       " ' What  Does  Suze  Orman  Say  About  Variable  Annuities?\\n164 ',\n",
       " ' health-insurance ',\n",
       " ' 可以用Fsa支付健康保险费吗？ ',\n",
       " ' Can  I  Pay  Health  Insurance  Premiums  With  Fsa?\\n165 ',\n",
       " ' medicare-insurance ',\n",
       " ' 沃尔玛是否接受医疗保险？ ',\n",
       " ' Does  Walmart  Take  Medicare?\\n166 ',\n",
       " ' auto-insurance ',\n",
       " ' 汽车保险可以转移吗？ ',\n",
       " ' Can  Auto  Insurance  Be  Transferred?\\n167 ',\n",
       " ' auto-insurance ',\n",
       " ' 什么是SR22保险？ ',\n",
       " ' What  Does  SR22  Insurance  Cover?\\n168 ',\n",
       " ' auto-insurance ',\n",
       " ' 没有工作可以得到汽车保险吗？ ',\n",
       " ' Can  I  Get  Car  Insurance  Without  A  Job?\\n169 ',\n",
       " ' health-insurance ',\n",
       " ' 你经常支付健康保险吗？ ',\n",
       " ' How  Often  Do  You  Pay  Health  Insurance?\\n170 ',\n",
       " ' life-insurance ',\n",
       " ' 受益人何时收到人寿保险？ ',\n",
       " ' When  Does  The  Beneficiary  Collect  From  A  Life  Insurance  Policy?\\n171 ',\n",
       " ' auto-insurance ',\n",
       " ' 如果我没有汽车保险我可以租车吗？ ',\n",
       " \" If  I  Don't  Have  Auto  Insurance  Can  I  Rent  A  Car?\\n172 \",\n",
       " ' medicare-insurance ',\n",
       " ' 医疗保险支付救护车吗？ ',\n",
       " ' Does  Medicare  Pay  For  Ambulance  Rides?\\n173 ',\n",
       " ' home-insurance ',\n",
       " ' 何时需要家庭保修保险？ ',\n",
       " ' When  Is  Home  Warranty  Insurance  Required?\\n174 ',\n",
       " ' home-insurance ',\n",
       " ' 家庭保险是否覆盖您的烟囱？ ',\n",
       " ' Does  Home  Insurance  Cover  Your  Chimney?\\n175 ',\n",
       " ' life-insurance ',\n",
       " ' 我需要多少人寿保险？ ',\n",
       " ' How  Much  Life  Insurance  Do  I  Need?\\n176 ',\n",
       " ' home-insurance ',\n",
       " ' 财产保险与房主保险相同吗？ ',\n",
       " ' Is  Property  Insurance  The  Same  As  Homeowners  Insurance?\\n177 ',\n",
       " ' life-insurance ',\n",
       " ' 当你年轻时，人寿保险是否更便宜？ ',\n",
       " ' Is  Life  Insurance  Cheaper  To  Buy  When  You  Are  Younger?\\n178 ',\n",
       " ' disability-insurance ',\n",
       " ' Aflac是否提供短期残疾保险？ ',\n",
       " ' Does  Aflac  Offer  Short  Term  Disability  Insurance?\\n179 ',\n",
       " ' disability-insurance ',\n",
       " ' 长期残疾是否涵盖医疗保险？ ',\n",
       " ' Does  Long  Term  Disability  Cover  Medical  Insurance?\\n180 ',\n",
       " ' home-insurance ',\n",
       " ' 失去使用意味着什么是房主保险？ ',\n",
       " ' What  Does  Loss  Of  Use  Mean  For  Homeowners  Insurance?\\n181 ',\n",
       " ' auto-insurance ',\n",
       " ' 汽车保险是否在您的信用报告上？ ',\n",
       " ' Does  Car  Insurance  Go  On  Your  Credit  Report?\\n182 ',\n",
       " ' auto-insurance ',\n",
       " ' 如何驾驶没有保险的新车？ ',\n",
       " ' How  To  Drive  A  New  Car  Home  Without  Insurance?\\n183 ',\n",
       " ' auto-insurance ',\n",
       " ' 为什么汽车保险在俄亥俄州那么昂贵？ ',\n",
       " ' Why  Is  Auto  Insurance  So  Expensive  In  Ohio?\\n184 ',\n",
       " ' disability-insurance ',\n",
       " ' 我需要南卡罗来纳州的残疾保险吗？ ',\n",
       " ' Do  I  Need  Disability  Insurance  In  South  Carolina?\\n185 ',\n",
       " ' renters-insurance ',\n",
       " ' 一个公寓大楼可否要求您将其作为您的租客保险的共同保单持有人？ ',\n",
       " \" Can  an  apartment  complex  require  you  to  add  them  as  a  co-policy  holder  on  your  renter's  insurance?\\n186 \",\n",
       " ' medicare-insurance ',\n",
       " ' 什么是医疗保险要花费我？ ',\n",
       " ' What  Is  Medicare  Going  To  Cost  Me?\\n187 ',\n",
       " ' medicare-insurance ',\n",
       " ' 被医疗保险部分D覆盖的Hyoscyamine是吗？ ',\n",
       " ' Is  Hyoscyamine  Covered  By  Medicare  Part  D?\\n188 ',\n",
       " ' long-term-care-insurance ',\n",
       " ' 长期护理保险的平均成本是多少？ ',\n",
       " ' How  Much  Does  Long  Term  Care  Insurance  Cost  On  Average?\\n189 ',\n",
       " ' medicare-insurance ',\n",
       " ' 医疗保险支付IVF多少钱？ ',\n",
       " ' How  Much  Does  Medicare  Pay  For  IVF?\\n190 ',\n",
       " ' medicare-insurance ',\n",
       " ' 医疗保险和医疗补助金有什么区别？ ',\n",
       " ' What  Is  The  Difference  In  Medicare  And  Medicaid?\\n191 ',\n",
       " ' life-insurance ',\n",
       " ' 人寿保险支付多少？ ',\n",
       " ' How  Much  Will  Life  Insurance  Payout?\\n192 ',\n",
       " ' disability-insurance ',\n",
       " ' 为什么需要残疾保险？ ',\n",
       " ' Why  Do  You  Need  Disability  Insurance?\\n193 ',\n",
       " ' health-insurance ',\n",
       " ' 健康保险何时成为强制性 ',\n",
       " ' When  Does  Health  Insurance  Become  Mandatory?\\n194 ',\n",
       " ' auto-insurance ',\n",
       " ' 结婚影响汽车保险？ ',\n",
       " ' Does  Getting  Married  Affect  Auto  Insurance?\\n195 ',\n",
       " ' medicare-insurance ',\n",
       " ' 医疗保险费用会在2014年上涨吗？ ',\n",
       " ' Will  The  Cost  Of  Medicare  Go  Up  In  2014?\\n196 ',\n",
       " ' auto-insurance ',\n",
       " ' 汽车保险多久？ ',\n",
       " ' How  Long  Does  Car  Insurance  Last?\\n197 ',\n",
       " ' home-insurance ',\n",
       " ' AAA家庭保险好吗？ ',\n",
       " ' Is  AAA  Home  Insurance  Any  Good?\\n198 ',\n",
       " ' auto-insurance ',\n",
       " ' 我可以保险金从汽车事故吗？ ',\n",
       " ' Can  I  Keep  Insurance  Money  From  Car  Accident?\\n199 ',\n",
       " ' auto-insurance ',\n",
       " ' 你可以去没有汽车保险的监狱吗？ ',\n",
       " ' Can  You  Go  To  Jail  For  Having  No  Car  Insurance?\\n200 ',\n",
       " ' health-insurance ',\n",
       " ' 您可以作为房地产经纪人获得健康保险吗？ ',\n",
       " ' Can  You  Get  Health  Insurance  As  A  Real  Estate  Agent?\\n201 ',\n",
       " ' medicare-insurance ',\n",
       " ' 什么时候开放注册Medigap政策？ ',\n",
       " ' When  Is  Open  Enrollment  For  Medigap  Policies?\\n202 ',\n",
       " ' medicare-insurance ',\n",
       " ' 何时使用医疗保险？ ',\n",
       " ' When  To  Use  Medicare?\\n203 ',\n",
       " ' retirement-plans ',\n",
       " ' 有限责任公司有退休计划吗？ ',\n",
       " ' Can  An  LLC  Have  A  Retirement  Plan?\\n204 ',\n",
       " ' auto-insurance ',\n",
       " ' 福特野马的汽车保险费用多少？ ',\n",
       " ' How  Much  Would  Car  Insurance  Cost  For  A  Ford  Mustang?\\n205 ',\n",
       " ' auto-insurance ',\n",
       " ' 保险会覆盖我的车上的一棵树吗？ ',\n",
       " ' Will  Insurance  Cover  A  Tree  Falling  On  My  Car?\\n206 ',\n",
       " ' life-insurance ',\n",
       " ' 人寿保险政策的面值是多少？ ',\n",
       " ' What  Is  The  Face  Value  Of  A  Term  Life  Insurance  Policy?\\n207 ',\n",
       " ' life-insurance ',\n",
       " ' 什么是安联人寿保险？ ',\n",
       " ' What  Is  Allianz  Life  Insurance?\\n208 ',\n",
       " ' life-insurance ',\n",
       " ' 人寿保险的现金投降价值是多少？ ',\n",
       " ' What  Is  Cash  Surrender  Value  In  Life  Insurance?\\n209 ',\n",
       " ' renters-insurance ',\n",
       " ' 租客保险是否盖车库盗窃？ ',\n",
       " ' Does  Renters  Insurance  Cover  Garage  Theft?\\n210 ',\n",
       " ' life-insurance ',\n",
       " ' 高胆固醇是否会影响人寿保险费率？ ',\n",
       " ' Does  High  Cholesterol  Affect  Life  Insurance  Rates?\\n211 ',\n",
       " ' medicare-insurance ',\n",
       " ' 医疗保险支付疼痛泵？ ',\n",
       " ' Will  Medicare  Pay  For  A  Pain  Pump?\\n212 ',\n",
       " ' life-insurance ',\n",
       " ' 什么是人寿保险类型？ ',\n",
       " ' What  Are  The  Types  Of  Life  Insurance  Policies?\\n213 ',\n",
       " ' life-insurance ',\n",
       " ' 国家农场寿险对THC进行测试？ ',\n",
       " ' Does  State  Farm  Life  Insurance  Test  For  THC?\\n214 ',\n",
       " ' health-insurance ',\n",
       " ' 哪里可以为个人购买健康保险？ ',\n",
       " ' Where  Can  I  Buy  Health  Insurance  For  An  Individual?\\n215 ',\n",
       " ' medicare-insurance ',\n",
       " ' 什么时候可以从医疗保险优势计划中消失？ ',\n",
       " ' When  Can  You  Disenroll  From  A  Medicare  Advantage  Plan?\\n216 ',\n",
       " ' life-insurance ',\n",
       " ' 人寿保险去财产？ ',\n",
       " ' Does  Life  Insurance  Go  To  Estate?\\n217 ',\n",
       " ' renters-insurance ',\n",
       " ' 租客保险是否涵盖啮齿动物损伤？ ',\n",
       " ' Does  Renters  Insurance  Cover  Rodent  Damage?\\n218 ',\n",
       " ' retirement-plans ',\n",
       " ' 当我可以从我的401K提款？ ',\n",
       " ' When  I  Can  Withdraw  Money  From  My  401K?\\n219 ',\n",
       " ' renters-insurance ',\n",
       " ' 公寓可以让你有租赁保险吗？ ',\n",
       " ' Can  An  Apartment  Force  You  To  Have  Renters  Insurance?\\n220 ',\n",
       " ' medicare-insurance ',\n",
       " ' Medigap是否覆盖眼睛检查？ ',\n",
       " ' Does  Medigap  Cover  Eye  Exams?\\n221 ',\n",
       " ' home-insurance ',\n",
       " ' 哪里最好的地方得到房主的保险？ ',\n",
       " ' Where  Is  The  Best  Place  To  Get  Homeowners  Insurance?\\n222 ',\n",
       " ' life-insurance ',\n",
       " ' 人寿保险期满是什么意思？ ',\n",
       " ' What  Does  Life  Insurance  Maturity  Mean?\\n223 ',\n",
       " ' renters-insurance ',\n",
       " ' 租客保险是否覆盖踏板车？ ',\n",
       " ' Does  Renters  Insurance  Cover  Scooters?\\n224 ',\n",
       " ' home-insurance ',\n",
       " ' 房主的保险是否会包裹食物？ ',\n",
       " ' Will  Homeowners  Insurance  Cover  Spoiled  Food?\\n225 ',\n",
       " ' home-insurance ',\n",
       " ' 家庭保险是否覆盖火灾？ ',\n",
       " ' Does  home  insurance  cover  fire?\\n226 ',\n",
       " ' health-insurance ',\n",
       " ' 当你退出工作时，健康保险停止吗？ ',\n",
       " ' When  You  Quit  Your  Job  Does  Health  Insurance  Stop?\\n227 ',\n",
       " ' auto-insurance ',\n",
       " ' 你可以购买停车许可证的汽车保险吗？ ',\n",
       " ' Can  You  Buy  Car  Insurance  With  A  Suspended  License?\\n228 ',\n",
       " ' life-insurance ',\n",
       " ' 为什么人寿保险成本更高？ ',\n",
       " ' Why  Does  Life  Insurance  Cost  More  For  Men?\\n229 ',\n",
       " ' life-insurance ',\n",
       " ' 人寿养老计划是什么？ ',\n",
       " ' What  Is  A  Endowment  Plan  In  Life  Insurance?\\n230 ',\n",
       " ' life-insurance ',\n",
       " ' 老年人的人寿保险费用多少？ ',\n",
       " ' How  Much  Does  Life  Insurance  Cost  For  Seniors?\\n231 ',\n",
       " ' home-insurance ',\n",
       " ' 何时使用您的家庭保险？ ',\n",
       " ' When  To  Use  Your  Home  Insurance?\\n232 ',\n",
       " ' home-insurance ',\n",
       " ' 房主保险是否涵盖基金会问题？ ',\n",
       " ' Does  Homeowners  Insurance  Cover  Foundation  Issues?\\n233 ',\n",
       " ' life-insurance ',\n",
       " ' 当我取消人寿保险时会发生什么？ ',\n",
       " ' What  Happens  When  I  Cancel  Life  Insurance?\\n234 ',\n",
       " ' life-insurance ',\n",
       " ' 如果我取消人寿保险政策会发生什么？ ',\n",
       " ' What  Happens  If  I  Cancel  A  Life  Insurance  Policy?\\n235 ',\n",
       " ' disability-insurance ',\n",
       " ' 残疾人保险如何必要？ ',\n",
       " ' How  Necessary  Is  Disability  Insurance?\\n236 ',\n",
       " ' life-insurance ',\n",
       " ' 什么是Aetna人寿保险？ ',\n",
       " ' What  Is  Aetna  Life  Insurance?\\n237 ',\n",
       " ' health-insurance ',\n",
       " ' 如何支付健康保险？ ',\n",
       " ' How  Can  I  Afford  Health  Insurance?\\n238 ',\n",
       " ' renters-insurance ',\n",
       " ' 租金保险不包括什么？ ',\n",
       " ' What  Will  Renters  Insurance  Not  Cover?\\n239 ',\n",
       " ' life-insurance ',\n",
       " ' 人寿保险何时进入？ ',\n",
       " ' When  Does  Life  Insurance  Kick  In?\\n240 ',\n",
       " ' auto-insurance ',\n",
       " ' 什么是没有汽车保险的罚款？ ',\n",
       " ' What  Is  The  Fine  For  No  Car  Insurance?\\n241 ',\n",
       " ' renters-insurance ',\n",
       " ' 租客保险是否覆盖我的车库？ ',\n",
       " ' Does  Renters  Insurance  Cover  My  Garage?\\n242 ',\n",
       " ' life-insurance ',\n",
       " ' 寿险是否影响FAFSA？ ',\n",
       " ' Does  Life  Insurance  Affect  FAFSA?\\n243 ',\n",
       " ' auto-insurance ',\n",
       " ' 非法移民可以获得汽车保险吗？ ',\n",
       " ' Can  An  Illegal  Immigrant  Get  Car  Insurance?\\n244 ',\n",
       " ' home-insurance ',\n",
       " ' 房主保险是否覆盖水泵？ ',\n",
       " ' Does  Homeowners  Insurance  Cover  Sump  Pumps?\\n245 ',\n",
       " ' health-insurance ',\n",
       " ' 购买健康保险时要注意什么？ ',\n",
       " ' What  To  Look  For  When  Purchasing  Health  Insurance?\\n246 ',\n",
       " ' home-insurance ',\n",
       " ' 房主保险覆盖地下水？ ',\n",
       " ' Does  Homeowners  Insurance  Cover  Groundwater?\\n247 ',\n",
       " ' auto-insurance ',\n",
       " ' 你可以通过电话获得汽车保险吗？ ',\n",
       " ' Can  You  Get  Auto  Insurance  Over  The  Phone?\\n248 ',\n",
       " ' medicare-insurance ',\n",
       " ' 医疗保险是否考虑福利？ ',\n",
       " ' Is  Medicare  Considered  Welfare?\\n249 ',\n",
       " ' medicare-insurance ',\n",
       " ' 是否必须在65岁申请医疗保险？ ',\n",
       " ' Is  It  Mandatory  To  Apply  For  Medicare  At  65?\\n250 ',\n",
       " ' retirement-plans ',\n",
       " ' 什么类型的退休计划是基于公式？ ',\n",
       " ' What  Type  Of  Retirement  Plan  Is  Based  On  A  Formula?\\n251 ',\n",
       " ' life-insurance ',\n",
       " ' 如果我提到人寿保险申请，会发生什么？ ',\n",
       " ' What  Happens  If  I  Lie  On  A  Life  Insurance  Application?\\n252 ',\n",
       " ' life-insurance ',\n",
       " ' 人寿保险公司可以检查病历吗？ ',\n",
       " ' Can  Life  Insurance  Companies  Check  Medical  Records?\\n253 ',\n",
       " ' life-insurance ',\n",
       " ' DUI会影响人寿保险多久？ ',\n",
       " ' How  Long  Does  A  DUI  Affect  Life  Insurance?\\n254 ',\n",
       " ' long-term-care-insurance ',\n",
       " ' 长期护理保险是什么意思？ ',\n",
       " ' What  Does  Long  Term  Care  Insurance  Mean?\\n255 ',\n",
       " ' retirement-plans ',\n",
       " ' 退休计划在工作中涵盖什么？ ',\n",
       " ' What  Is  Covered  By  A  Retirement  Plan  At  Work?\\n256 ',\n",
       " ' auto-insurance ',\n",
       " ' 汽车保险在纽约有多少？ ',\n",
       " ' How  Much  Is  Car  Insurance  In  NY?\\n257 ',\n",
       " ' retirement-plans ',\n",
       " ' 你为什么要退休？ ',\n",
       " ' Why  Should  You  Have  A  Retirement  Plan?\\n258 ',\n",
       " ' disability-insurance ',\n",
       " ' 短期残疾保险是否涵盖孕产妇？ ',\n",
       " ' Does  Short  Term  Disability  Insurance  Cover  Maternity?\\n259 ',\n",
       " ' health-insurance ',\n",
       " ' 健康保险在离职时结束什么时候？ ',\n",
       " ' When  Does  Health  Insurance  End  When  Leaving  A  Job?\\n260 ',\n",
       " ' life-insurance ',\n",
       " ' 人寿保险在支付时纳税吗？ ',\n",
       " ' Does  Life  Insurance  Get  Taxed  At  Payout?\\n261 ',\n",
       " ' auto-insurance ',\n",
       " ' 谁是最便宜的汽车保险为新的司机？ ',\n",
       " ' Who  Is  The  Cheapest  Car  Insurance  For  New  Drivers?\\n262 ',\n",
       " ' medicare-insurance ',\n",
       " ' Medigap支付什么？ ',\n",
       " ' What  Does  Medigap  Pay  For?\\n263 ',\n",
       " ' auto-insurance ',\n",
       " ' 为什么男士汽车保险更高？ ',\n",
       " \" Why  Is  Men's  Car  Insurance  Higher?\\n264 \",\n",
       " ' auto-insurance ',\n",
       " ' 我可以从没有保险的企业租车吗？ ',\n",
       " ' Can  I  Rent  A  Car  From  Enterprise  Without  Insurance?\\n265 ',\n",
       " ' auto-insurance ',\n",
       " ' 汽车保险公司能放你吗？ ',\n",
       " ' Can  Car  Insurance  Companies  Drop  You?\\n266 ',\n",
       " ' health-insurance ',\n",
       " ' 什么是长期健康保险？ ',\n",
       " ' What  Is  Long  Term  Health  Insurance?\\n267 ',\n",
       " ' home-insurance ',\n",
       " ' 房主保险增加吗？ ',\n",
       " ' Is  Homeowners  Insurance  Increasing?\\n268 ',\n",
       " ' retirement-plans ',\n",
       " ' 什么是退休计划信托？ ',\n",
       " ' What  Is  A  Retirement  Plan  Fiduciary?\\n269 ',\n",
       " ' life-insurance ',\n",
       " ' 如何从人寿保险中提取现金价值？ ',\n",
       " ' How  To  Withdraw  Cash  Value  From  Life  Insurance  Policy?\\n270 ',\n",
       " ' disability-insurance ',\n",
       " ' 什么是退休幸存者和残疾保险？ ',\n",
       " ' What  Is  Retirement  Survivors  And  Disability  Insurance?\\n271 ',\n",
       " ' annuities ',\n",
       " ' 年金排除率是多少？ ',\n",
       " ' What  Is  The  Exclusion  Ratio  In  Annuities?\\n272 ',\n",
       " ' disability-insurance ',\n",
       " ' 残疾保险是什么意思？ ',\n",
       " ' What  Does  Disability  Insurance  Mean?\\n273 ',\n",
       " ' annuities ',\n",
       " ' 年金可以转入401K吗？ ',\n",
       " ' Can  An  Annuity  Be  Rolled  Into  A  401K?\\n274 ',\n",
       " ' medicare-insurance ',\n",
       " ' 你可以要求减少医疗保险吗 ',\n",
       " ' Can  You  Claim  A  Breast  Reduction  On  Medicare?\\n275 ',\n",
       " ' home-insurance ',\n",
       " ' 我的房主保险是否覆盖了一个漏水屋顶？ ',\n",
       " ' Will  My  Homeowners  Insurance  Cover  A  Leaky  Roof?\\n276 ',\n",
       " ' medicare-insurance ',\n",
       " ' 医疗保险何时覆盖血液测试？ ',\n",
       " ' When  Does  Medicare  Cover  Blood  Tests?\\n277 ',\n",
       " ' life-insurance ',\n",
       " ' 人寿保险公司可以访问医疗记录吗？ ',\n",
       " ' Can  Life  Insurance  Companies  Access  Medical  Records?\\n278 ',\n",
       " ' life-insurance ',\n",
       " ' 20年的人寿保险是多少？ ',\n",
       " ' How  Much  Is  Term  Life  Insurance  For  20  Years?\\n279 ',\n",
       " ' life-insurance ',\n",
       " ' 什么是人寿保险？ ',\n",
       " ' What  Is  The  Term  Of  Life  Insurance?\\n280 ',\n",
       " ' home-insurance ',\n",
       " ' 什么是家庭保险的年度保费？ ',\n",
       " ' What  Is  An  Annual  Premium  For  Home  Insurance?\\n281 ',\n",
       " ' life-insurance ',\n",
       " ' 我应该买什么样的人寿保险？ ',\n",
       " ' What  Kind  Of  Life  Insurance  Should  I  Buy?\\n282 ',\n",
       " ' medicare-insurance ',\n",
       " ' Xarelto是由Medicare覆盖吗？ ',\n",
       " ' Is  Xarelto  Covered  By  Medicare?\\n283 ',\n",
       " ' health-insurance ',\n",
       " ' 我的健康保险什么时候停了？ ',\n",
       " ' I  Was  Fired  When  Does  My  Health  Insurance  Stop?\\n284 ',\n",
       " ' life-insurance ',\n",
       " ' 美元人寿保险如何运作？ ',\n",
       " ' How  Does  Split  Dollar  Life  Insurance  Work?\\n285 ',\n",
       " ' life-insurance ',\n",
       " ' 是否可以取消人寿保险？ ',\n",
       " ' Is  It  Ok  To  Cancel  Life  Insurance?\\n286 ',\n",
       " ' life-insurance ',\n",
       " ' 谁应该受益于人寿保险？ ',\n",
       " ' Who  Should  Be  Beneficiary  On  Life  Insurance?\\n287 ',\n",
       " ' health-insurance ',\n",
       " ' 你可以从群体健康保险中掉下来吗？ ',\n",
       " ' Can  You  Be  Dropped  From  Group  Health  Insurance?\\n288 ',\n",
       " ' life-insurance ',\n",
       " ' 人寿保险是否覆盖癌症？ ',\n",
       " ' Does  Life  Insurance  Cover  Cancer?\\n289 ',\n",
       " ' disability-insurance ',\n",
       " ' 什么是补充长期残疾保险？ ',\n",
       " ' What  Is  Supplemental  Long  Term  Disability  Insurance?\\n290 ',\n",
       " ' auto-insurance ',\n",
       " ' 可以结婚的孩子留在父母汽车保险吗？ ',\n",
       " ' Can  Married  Children  stay  On  Parents  Auto  Insurance?\\n291 ',\n",
       " ' medicare-insurance ',\n",
       " ' 你可以要求医疗保险和私人健康吗？ ',\n",
       " ' Can  You  Claim  Medicare  And  Private  Health?\\n292 ',\n",
       " ' life-insurance ',\n",
       " ' 什么是人寿保险年金？ ',\n",
       " ' What  Is  A  Life  Insurance  Annuity?\\n293 ',\n",
       " ' disability-insurance ',\n",
       " ' 我可以期待赔偿残疾保险？ ',\n",
       " ' What  Can  I  Expect  To  Pay  For  Disability  Insurance?\\n294 ',\n",
       " ' life-insurance ',\n",
       " ' 什么是相互全人寿保险？ ',\n",
       " ' What  Is  Mutual  Whole  Life  Insurance?\\n295 ',\n",
       " ' retirement-plans ',\n",
       " ' 什么是养老金计划赞助？ ',\n",
       " ' What  Is  A  Pension  Plan  Sponsor?\\n296 ',\n",
       " ' disability-insurance ',\n",
       " ' 什么国家有国家残疾保险？ ',\n",
       " ' What  States  Have  State  Disability  Insurance?\\n297 ',\n",
       " ' disability-insurance ',\n",
       " ' 长期残疾保险涵盖什么？ ',\n",
       " ' What  Is  Covered  By  Long  Term  Disability  Insurance?\\n298 ',\n",
       " ' home-insurance ',\n",
       " ' 你可以切换家庭保险吗？ ',\n",
       " ' Can  You  Switch  Home  Insurance?\\n299 ',\n",
       " ' long-term-care-insurance ',\n",
       " ' 谁从谁购买长期护理保险？ ',\n",
       " ' Who  To  Buy  Long  Term  Care  Insurance  From?\\n300 ',\n",
       " ' medicare-insurance ',\n",
       " ' 医疗保险覆盖Zostavax？ ',\n",
       " ' Does  Medicare  Cover  Zostavax?\\n301 ',\n",
       " ' critical-illness-insurance ',\n",
       " ' Aflac癌症保险值得吗？ ',\n",
       " ' Is  Aflac  Cancer  Insurance  Worth  It?\\n302 ',\n",
       " ' auto-insurance ',\n",
       " ' 你可以切换汽车保险中期政策吗？ ',\n",
       " ' Can  You  Switch  Car  Insurance  Mid  Policy?\\n303 ',\n",
       " ' home-insurance ',\n",
       " ' 我的索赔被我的犯罪记录否认是对的吗？ ',\n",
       " ' My  Claim  Was  Denied  Due  To  My  Criminal  Record.  Is  That  Right?\\n304 ',\n",
       " ' life-insurance ',\n",
       " ' 人寿保险在你的W2？ ',\n",
       " ' Does  Life  Insurance  Go  On  Your  W2?\\n305 ',\n",
       " ' life-insurance ',\n",
       " ' 养老院可以拿人寿保险吗？ ',\n",
       " ' Can  Nursing  Home  Take  Life  Insurance?\\n306 ',\n",
       " ' life-insurance ',\n",
       " ' 人寿保险是否缴纳税款？ ',\n",
       " ' When  Are  Life  Insurance  Proceeds  Taxed?\\n307 ',\n",
       " ' life-insurance ',\n",
       " ' 意外人寿值得吗？ ',\n",
       " ' Is  Accidental  Life  Insurance  Worth  It?\\n308 ',\n",
       " ' health-insurance ',\n",
       " ' 健康保险是否覆盖了Tummy Tuck？ ',\n",
       " ' Does  Health  Insurance  Cover  A  Tummy  Tuck?\\n309 ',\n",
       " ' health-insurance ',\n",
       " ' 健康保险通常是否覆盖整形术？ ',\n",
       " ' Does  Health  Insurance  Typically  Cover  Otoplasty?\\n310 ',\n",
       " ' life-insurance ',\n",
       " ' 人寿保险是死后的一部分吗？ ',\n",
       " ' Is  Life  Insurance  Part  Of  An  Estate  After  Death?\\n311 ',\n",
       " ' long-term-care-insurance ',\n",
       " ' 何时获得长期护理保险？ ',\n",
       " ' When  Do  You  Get  Long  Term  Care  Insurance?\\n312 ',\n",
       " ' health-insurance ',\n",
       " ' 我如何知道我有什么健康保险？ ',\n",
       " ' How  Do  I  Know  What  Health  Insurance  I  Have?\\n313 ',\n",
       " ' life-insurance ',\n",
       " ' 人寿保险代理人的平均工资是多少？ ',\n",
       " ' What  Is  The  Average  Salary  Of  A  Life  Insurance  Agent?\\n314 ',\n",
       " ' critical-illness-insurance ',\n",
       " ' 谁发明了重大疾病保险？ ',\n",
       " ' Who  Invented  Critical  Illness  Insurance?\\n315 ',\n",
       " ' health-insurance ',\n",
       " ' 伟大的剪辑是否提供健康保险？ ',\n",
       " ' Does  Great  Clips  Offer  Health  Insurance?\\n316 ',\n",
       " ' medicare-insurance ',\n",
       " ' Krystexxa被Medicare覆盖吗？ ',\n",
       " ' Is  Krystexxa  Covered  By  Medicare?\\n317 ',\n",
       " ' home-insurance ',\n",
       " ' 什么是合适的房主保险？ ',\n",
       " ' What  Is  The  Right  Amount  Of  Homeowners  Insurance?\\n318 ',\n",
       " ' auto-insurance ',\n",
       " ' 汽车保险在加州有多少17岁的女性？ ',\n",
       " ' How  Much  Is  Car  Insurance  For  A  17  Year  Old  Female  In  California?\\n319 ',\n",
       " ' medicare-insurance ',\n",
       " ' 医疗保险盖Xanax？ ',\n",
       " ' Does  Medicare  Cover  Xanax?\\n320 ',\n",
       " ' life-insurance ',\n",
       " ' 人寿保险通常费用多少？ ',\n",
       " ' How  Much  Does  Life  Insurance  Usually  Cost?\\n321 ',\n",
       " ' life-insurance ',\n",
       " ' 我年轻时应该买人寿吗？ ',\n",
       " ' Should  I  Buy  Life  Insurance  When  I  Am  Young?\\n322 ',\n",
       " ' medicare-insurance ',\n",
       " ' 如何选择Medigap保险？ ',\n",
       " ' How  To  Choose  Medigap  Insurance?\\n323 ',\n",
       " ' health-insurance ',\n",
       " ' 什么样的健康保险是最好的？ ',\n",
       " ' What  Kind  Of  Health  Insurance  Is  Best?\\n324 ',\n",
       " ' health-insurance ',\n",
       " ' 健康保险是否覆盖STD测试？ ',\n",
       " ' Does  Health  Insurance  Cover  STD  Testing?\\n325 ',\n",
       " ' annuities ',\n",
       " ' 什么是即期年金？ ',\n",
       " ' What  Are  Immediate  Annuities?\\n326 ',\n",
       " ' health-insurance ',\n",
       " ' 健康保险费是什么意思？ ',\n",
       " ' What  Does  A  Health  Insurance  Premium  Mean?\\n327 ',\n",
       " ' critical-illness-insurance ',\n",
       " ' 对癌症患者而言，没有保险怎么办？ ',\n",
       " ' What  Happens  To  People  With  Cancer  And  No  Insurance?\\n328 ',\n",
       " ' health-insurance ',\n",
       " ' 什么时候要求健康保险开始？ ',\n",
       " ' When  Does  Mandated  Health  Insurance  Start?\\n329 ',\n",
       " ' renters-insurance ',\n",
       " ' 租赁保险是什么？ ',\n",
       " ' What  Does  Renters  Insurance  Protect?\\n330 ',\n",
       " ' annuities ',\n",
       " ' 为什么年金是不好的投资？ ',\n",
       " ' Why  Annuities  Are  Poor  Investments?\\n331 ',\n",
       " ' medicare-insurance ',\n",
       " ' 医疗保险是否限制了在任何给定时间内可以拥有的超声心动图数量？ ',\n",
       " ' Does  medicare  limit  the  number  of  echocardiograms  one  can  have  in  any  given  amount  of  time?\\n332 ',\n",
       " ' life-insurance ',\n",
       " ' 如何确定人寿保险金额？ ',\n",
       " ' How  To  Determine  Term  Life  Insurance  Amount?\\n333 ',\n",
       " ...]"
      ]
     },
     "execution_count": 6,
     "metadata": {},
     "output_type": "execute_result"
    }
   ],
   "source": [
    "import pandas as pd\n",
    "\n",
    "filename = 'train.txt'\n",
    "\n",
    "file = open(filename,'r', encoding='UTF-8').read().split('++$++')\n",
    "\n",
    "file"
   ]
  },
  {
   "cell_type": "code",
   "execution_count": null,
   "metadata": {},
   "outputs": [],
   "source": []
  },
  {
   "cell_type": "markdown",
   "metadata": {},
   "source": [
    "#### 3. 获得最优质的的语言"
   ]
  },
  {
   "cell_type": "markdown",
   "metadata": {},
   "source": [
    "当我们能够生成随机的语言并且能判断之后，我们就可以生成更加合理的语言了。请定义 generate_best 函数，该函数输入一个语法 + 语言模型，能够生成**n**个句子，并能选择一个最合理的句子: \n",
    "\n"
   ]
  },
  {
   "cell_type": "markdown",
   "metadata": {},
   "source": [
    "提示，要实现这个函数，你需要Python的sorted函数"
   ]
  },
  {
   "cell_type": "code",
   "execution_count": 7,
   "metadata": {},
   "outputs": [
    {
     "data": {
      "text/plain": [
       "[1, 2, 3, 5]"
      ]
     },
     "execution_count": 7,
     "metadata": {},
     "output_type": "execute_result"
    }
   ],
   "source": [
    "sorted([1, 3, 5, 2])"
   ]
  },
  {
   "cell_type": "markdown",
   "metadata": {},
   "source": [
    "这个函数接受一个参数key，这个参数接受一个函数作为输入，例如"
   ]
  },
  {
   "cell_type": "code",
   "execution_count": 8,
   "metadata": {},
   "outputs": [
    {
     "data": {
      "text/plain": [
       "[(1, 4), (2, 5), (4, 4), (5, 0)]"
      ]
     },
     "execution_count": 8,
     "metadata": {},
     "output_type": "execute_result"
    }
   ],
   "source": [
    "sorted([(2, 5), (1, 4), (5, 0), (4, 4)], key=lambda x: x[0])"
   ]
  },
  {
   "cell_type": "markdown",
   "metadata": {},
   "source": [
    "能够让list按照第0个元素进行排序."
   ]
  },
  {
   "cell_type": "code",
   "execution_count": 9,
   "metadata": {},
   "outputs": [
    {
     "data": {
      "text/plain": [
       "[(5, 0), (1, 4), (4, 4), (2, 5)]"
      ]
     },
     "execution_count": 9,
     "metadata": {},
     "output_type": "execute_result"
    }
   ],
   "source": [
    "sorted([(2, 5), (1, 4), (5, 0), (4, 4)], key=lambda x: x[1])"
   ]
  },
  {
   "cell_type": "markdown",
   "metadata": {},
   "source": [
    "能够让list按照第1个元素进行排序."
   ]
  },
  {
   "cell_type": "code",
   "execution_count": 10,
   "metadata": {},
   "outputs": [
    {
     "data": {
      "text/plain": [
       "[(2, 5), (1, 4), (4, 4), (5, 0)]"
      ]
     },
     "execution_count": 10,
     "metadata": {},
     "output_type": "execute_result"
    }
   ],
   "source": [
    "sorted([(2, 5), (1, 4), (5, 0), (4, 4)], key=lambda x: x[1], reverse=True)"
   ]
  },
  {
   "cell_type": "markdown",
   "metadata": {},
   "source": [
    "能够让list按照第1个元素进行排序, 但是是递减的顺序。"
   ]
  },
  {
   "cell_type": "code",
   "execution_count": 11,
   "metadata": {},
   "outputs": [
    {
     "data": {
      "text/plain": [
       "[(5, 0), (1, 4), (4, 4), (2, 5)]"
      ]
     },
     "execution_count": 11,
     "metadata": {},
     "output_type": "execute_result"
    }
   ],
   "source": [
    "sorted([(2, 5), (1, 4), (5, 0), (4, 4)], key=lambda x: x[1], reverse=False)"
   ]
  },
  {
   "cell_type": "code",
   "execution_count": 12,
   "metadata": {},
   "outputs": [],
   "source": [
    "def generate_best(): # you code here\n",
    "    pass"
   ]
  },
  {
   "cell_type": "markdown",
   "metadata": {},
   "source": [
    "好了，现在我们实现了自己的第一个AI模型，这个模型能够生成比较接近于人类的语言。"
   ]
  },
  {
   "cell_type": "markdown",
   "metadata": {},
   "source": [
    ">"
   ]
  },
  {
   "cell_type": "markdown",
   "metadata": {},
   "source": [
    "Q: 这个模型有什么问题？ 你准备如何提升？ "
   ]
  },
  {
   "cell_type": "markdown",
   "metadata": {},
   "source": [
    "Ans:"
   ]
  },
  {
   "cell_type": "markdown",
   "metadata": {},
   "source": [
    ">"
   ]
  },
  {
   "cell_type": "markdown",
   "metadata": {},
   "source": [
    "##### 以下内容为可选部分，对于绝大多数同学，能完成以上的项目已经很优秀了，下边的内容如果你还有精力可以试试，但不是必须的。"
   ]
  },
  {
   "cell_type": "markdown",
   "metadata": {},
   "source": [
    "#### 4. (Optional) 完成基于Pattern Match的语句问答\n",
    "> 我们的GitHub仓库中，有一个assignment-01-optional-pattern-match，这个难度较大，感兴趣的同学可以挑战一下。"
   ]
  },
  {
   "cell_type": "markdown",
   "metadata": {},
   "source": [
    "\n",
    "#### 5. (Optional) 完成阿兰图灵机器智能原始论文的阅读\n",
    "1. 请阅读阿兰图灵关于机器智能的原始论文：https://github.com/Computing-Intelligence/References/blob/master/AI%20%26%20Machine%20Learning/Computer%20Machinery%20and%20Intelligence.pdf \n",
    "2. 并按照GitHub仓库中的论文阅读模板，填写完毕后发送给我: mqgao@kaikeba.com 谢谢"
   ]
  },
  {
   "cell_type": "markdown",
   "metadata": {},
   "source": [
    "> "
   ]
  },
  {
   "cell_type": "markdown",
   "metadata": {},
   "source": [
    "各位同学，我们已经完成了自己的第一个AI模型，大家对人工智能可能已经有了一些感觉，人工智能的核心就是，我们如何设计一个模型、程序，在外部的输入变化的时候，我们的程序不变，依然能够解决问题。人工智能是一个很大的领域，目前大家所熟知的深度学习只是其中一小部分，之后也肯定会有更多的方法提出来，但是大家知道人工智能的目标，就知道了之后进步的方向。"
   ]
  },
  {
   "cell_type": "markdown",
   "metadata": {},
   "source": [
    "然后，希望大家对AI不要有恐惧感，这个并不难，大家加油！"
   ]
  },
  {
   "cell_type": "markdown",
   "metadata": {},
   "source": [
    ">"
   ]
  },
  {
   "cell_type": "markdown",
   "metadata": {},
   "source": [
    "![](https://timgsa.baidu.com/timg?image&quality=80&size=b9999_10000&sec=1561828422005&di=48d19c16afb6acc9180183a6116088ac&imgtype=0&src=http%3A%2F%2Fb-ssl.duitang.com%2Fuploads%2Fitem%2F201807%2F28%2F20180728150843_BECNF.thumb.224_0.jpeg)"
   ]
  }
 ],
 "metadata": {
  "kernelspec": {
   "display_name": "Python 3",
   "language": "python",
   "name": "python3"
  },
  "language_info": {
   "codemirror_mode": {
    "name": "ipython",
    "version": 3
   },
   "file_extension": ".py",
   "mimetype": "text/x-python",
   "name": "python",
   "nbconvert_exporter": "python",
   "pygments_lexer": "ipython3",
   "version": "3.7.0"
  }
 },
 "nbformat": 4,
 "nbformat_minor": 2
}
